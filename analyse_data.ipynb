{
 "cells": [
  {
   "cell_type": "code",
   "execution_count": 1,
   "id": "9fe54ccf",
   "metadata": {},
   "outputs": [],
   "source": [
    "import pandas as pd\n",
    "from sklearn.feature_extraction.text import CountVectorizer, TfidfVectorizer\n",
    "from sklearn.pipeline import Pipeline\n",
    "from sklearn.linear_model import LogisticRegression\n",
    "from sklearn.model_selection import train_test_split\n",
    "from sklearn.metrics import accuracy_score\n",
    "import nltk\n",
    "from nltk.corpus import stopwords\n",
    "from unidecode import unidecode\n",
    "import re"
   ]
  },
  {
   "cell_type": "code",
   "execution_count": 2,
   "id": "f4f05acb",
   "metadata": {},
   "outputs": [
    {
     "name": "stderr",
     "output_type": "stream",
     "text": [
      "[nltk_data] Downloading package stopwords to\n",
      "[nltk_data]     /home/ricardorr/nltk_data...\n",
      "[nltk_data]   Package stopwords is already up-to-date!\n"
     ]
    }
   ],
   "source": [
    "nltk.download('stopwords')\n",
    "ENGLISH_STOP_WORDS = list(stopwords.words('english'))"
   ]
  },
  {
   "cell_type": "code",
   "execution_count": 3,
   "id": "d73babf1",
   "metadata": {},
   "outputs": [
    {
     "data": {
      "text/html": [
       "<div>\n",
       "<style scoped>\n",
       "    .dataframe tbody tr th:only-of-type {\n",
       "        vertical-align: middle;\n",
       "    }\n",
       "\n",
       "    .dataframe tbody tr th {\n",
       "        vertical-align: top;\n",
       "    }\n",
       "\n",
       "    .dataframe thead th {\n",
       "        text-align: right;\n",
       "    }\n",
       "</style>\n",
       "<table border=\"1\" class=\"dataframe\">\n",
       "  <thead>\n",
       "    <tr style=\"text-align: right;\">\n",
       "      <th></th>\n",
       "      <th>Recommendation</th>\n",
       "      <th>Review</th>\n",
       "      <th>Helpful</th>\n",
       "    </tr>\n",
       "  </thead>\n",
       "  <tbody>\n",
       "    <tr>\n",
       "      <th>0</th>\n",
       "      <td>Not Recommended</td>\n",
       "      <td>TL:DR - This game is a psychologically manipul...</td>\n",
       "      <td>799</td>\n",
       "    </tr>\n",
       "    <tr>\n",
       "      <th>1</th>\n",
       "      <td>Not Recommended</td>\n",
       "      <td>Worst Fifa ever, terrible passing, shooting, l...</td>\n",
       "      <td>710</td>\n",
       "    </tr>\n",
       "    <tr>\n",
       "      <th>2</th>\n",
       "      <td>Not Recommended</td>\n",
       "      <td>gameplay, servers, full of bugs and problems. ...</td>\n",
       "      <td>292</td>\n",
       "    </tr>\n",
       "    <tr>\n",
       "      <th>3</th>\n",
       "      <td>Not Recommended</td>\n",
       "      <td>Year after year EA finds ways to make the game...</td>\n",
       "      <td>457</td>\n",
       "    </tr>\n",
       "    <tr>\n",
       "      <th>4</th>\n",
       "      <td>Not Recommended</td>\n",
       "      <td>I purchased this game 2 weeks ago and I still ...</td>\n",
       "      <td>436</td>\n",
       "    </tr>\n",
       "  </tbody>\n",
       "</table>\n",
       "</div>"
      ],
      "text/plain": [
       "    Recommendation                                             Review  Helpful\n",
       "0  Not Recommended  TL:DR - This game is a psychologically manipul...      799\n",
       "1  Not Recommended  Worst Fifa ever, terrible passing, shooting, l...      710\n",
       "2  Not Recommended  gameplay, servers, full of bugs and problems. ...      292\n",
       "3  Not Recommended  Year after year EA finds ways to make the game...      457\n",
       "4  Not Recommended  I purchased this game 2 weeks ago and I still ...      436"
      ]
     },
     "execution_count": 3,
     "metadata": {},
     "output_type": "execute_result"
    }
   ],
   "source": [
    "extracted = pd.read_csv(\"steam_reviews.csv\")\n",
    "extracted.head(5)"
   ]
  },
  {
   "cell_type": "code",
   "execution_count": 4,
   "id": "be29d1f1",
   "metadata": {},
   "outputs": [],
   "source": [
    "def is_valid_word(word):\n",
    "    # remove repeated letters, short words\n",
    "    if len(word) <= 3:\n",
    "        return False\n",
    "    if re.search(r'(.)\\1{2,}', word):\n",
    "        return False\n",
    "    if not re.match(r'^[a-zA-Z]+$', word):  # only letters\n",
    "        return False\n",
    "    return True\n",
    "\n",
    "def clean_text(text):\n",
    "    words = text.lower().split()\n",
    "    return ' '.join([word for word in words if is_valid_word(word)])"
   ]
  },
  {
   "cell_type": "code",
   "execution_count": 5,
   "id": "abc50413",
   "metadata": {},
   "outputs": [
    {
     "data": {
      "text/html": [
       "<div>\n",
       "<style scoped>\n",
       "    .dataframe tbody tr th:only-of-type {\n",
       "        vertical-align: middle;\n",
       "    }\n",
       "\n",
       "    .dataframe tbody tr th {\n",
       "        vertical-align: top;\n",
       "    }\n",
       "\n",
       "    .dataframe thead th {\n",
       "        text-align: right;\n",
       "    }\n",
       "</style>\n",
       "<table border=\"1\" class=\"dataframe\">\n",
       "  <thead>\n",
       "    <tr style=\"text-align: right;\">\n",
       "      <th></th>\n",
       "      <th>Recommendation</th>\n",
       "      <th>Review</th>\n",
       "      <th>Helpful</th>\n",
       "      <th>CleanedReview</th>\n",
       "    </tr>\n",
       "  </thead>\n",
       "  <tbody>\n",
       "    <tr>\n",
       "      <th>0</th>\n",
       "      <td>Not Recommended</td>\n",
       "      <td>TL:DR - This game is a psychologically manipul...</td>\n",
       "      <td>799</td>\n",
       "      <td>tldr this game psychologically manipulative sk...</td>\n",
       "    </tr>\n",
       "    <tr>\n",
       "      <th>1</th>\n",
       "      <td>Not Recommended</td>\n",
       "      <td>Worst Fifa ever, terrible passing, shooting, l...</td>\n",
       "      <td>710</td>\n",
       "      <td>worst fifa ever terrible passing shooting inpu...</td>\n",
       "    </tr>\n",
       "    <tr>\n",
       "      <th>2</th>\n",
       "      <td>Not Recommended</td>\n",
       "      <td>gameplay, servers, full of bugs and problems. ...</td>\n",
       "      <td>292</td>\n",
       "      <td>gameplay servers full bugs problems buying thi...</td>\n",
       "    </tr>\n",
       "    <tr>\n",
       "      <th>3</th>\n",
       "      <td>Not Recommended</td>\n",
       "      <td>Year after year EA finds ways to make the game...</td>\n",
       "      <td>457</td>\n",
       "      <td>year after year finds ways make game worse esp...</td>\n",
       "    </tr>\n",
       "    <tr>\n",
       "      <th>4</th>\n",
       "      <td>Not Recommended</td>\n",
       "      <td>I purchased this game 2 weeks ago and I still ...</td>\n",
       "      <td>436</td>\n",
       "      <td>purchased this game weeks still able play sing...</td>\n",
       "    </tr>\n",
       "  </tbody>\n",
       "</table>\n",
       "</div>"
      ],
      "text/plain": [
       "    Recommendation                                             Review  \\\n",
       "0  Not Recommended  TL:DR - This game is a psychologically manipul...   \n",
       "1  Not Recommended  Worst Fifa ever, terrible passing, shooting, l...   \n",
       "2  Not Recommended  gameplay, servers, full of bugs and problems. ...   \n",
       "3  Not Recommended  Year after year EA finds ways to make the game...   \n",
       "4  Not Recommended  I purchased this game 2 weeks ago and I still ...   \n",
       "\n",
       "   Helpful                                      CleanedReview  \n",
       "0      799  tldr this game psychologically manipulative sk...  \n",
       "1      710  worst fifa ever terrible passing shooting inpu...  \n",
       "2      292  gameplay servers full bugs problems buying thi...  \n",
       "3      457  year after year finds ways make game worse esp...  \n",
       "4      436  purchased this game weeks still able play sing...  "
      ]
     },
     "execution_count": 5,
     "metadata": {},
     "output_type": "execute_result"
    }
   ],
   "source": [
    "# First cleaning step: translate non-ASCII characters to ASCII\n",
    "extracted['CleanedReview'] = extracted['Review'].apply(unidecode)\n",
    "# Remove numbers and punctuation\n",
    "extracted['CleanedReview'] = extracted['CleanedReview'].str.replace(r'[^a-zA-Z\\s]', '', regex=True)\n",
    "extracted['CleanedReview'] = extracted['CleanedReview'].apply(clean_text)\n",
    "\n",
    "extracted.head(5)"
   ]
  },
  {
   "cell_type": "code",
   "execution_count": 6,
   "id": "463fd83f",
   "metadata": {},
   "outputs": [
    {
     "data": {
      "text/plain": [
       "(83, 317)"
      ]
     },
     "execution_count": 6,
     "metadata": {},
     "output_type": "execute_result"
    }
   ],
   "source": [
    "satisfied = extracted[extracted[\"Recommendation\"] == 'Recommended']\n",
    "not_satisfied = extracted[extracted['Recommendation'] == 'Not Recommended']\n",
    "len(satisfied), len(not_satisfied)"
   ]
  },
  {
   "cell_type": "markdown",
   "id": "34f227f6",
   "metadata": {},
   "source": [
    "## Model used - Count vectorizer + logistic regression\n",
    "\n",
    "Predicts how much each word (or ngram) relates to being the target variable, assigning weights to each of the tokens, those weights can than be used to measure how negative (or positive) a word is."
   ]
  },
  {
   "cell_type": "code",
   "execution_count": 7,
   "id": "6a4ceaf6",
   "metadata": {},
   "outputs": [
    {
     "data": {
      "text/plain": [
       "'Training accuracy: 0.85 - 340 samples, 60 test samples'"
      ]
     },
     "execution_count": 7,
     "metadata": {},
     "output_type": "execute_result"
    }
   ],
   "source": [
    "X = extracted[\"CleanedReview\"].to_numpy()\n",
    "Y = extracted[\"Recommendation\"].to_numpy()\n",
    "X_train, X_test, y_train, y_test = train_test_split(X, Y, test_size=0.15)\n",
    "\n",
    "classifier = Pipeline(\n",
    "    [\n",
    "        ('vectorizer', CountVectorizer(stop_words=ENGLISH_STOP_WORDS, binary=True, ngram_range=(1, 2))),\n",
    "        # ('vectorizer', TfidfVectorizer(stop_words=ENGLISH_STOP_WORDS, binary=True, ngram_range=(1, 2))),\n",
    "        ('log_regressor', LogisticRegression(penalty='l2', solver='saga', max_iter=10_000))\n",
    "    ]\n",
    ")\n",
    "\n",
    "classifier.fit(X_train, y_train)\n",
    "y_pred = classifier.predict(X_test)\n",
    "acc = accuracy_score(y_pred, y_test)\n",
    "f\"Training accuracy: {acc} - {len(X_train)} samples, {len(X_test)} test samples\""
   ]
  },
  {
   "cell_type": "code",
   "execution_count": 8,
   "id": "1c68d1a4",
   "metadata": {},
   "outputs": [
    {
     "data": {
      "text/plain": [
       "array(['Not Recommended', 'Recommended'], dtype=object)"
      ]
     },
     "execution_count": 8,
     "metadata": {},
     "output_type": "execute_result"
    }
   ],
   "source": [
    "classifier.classes_\n",
    "# 0 = Not Recommended; 1 = Recommended"
   ]
  },
  {
   "cell_type": "code",
   "execution_count": 9,
   "id": "d85fdd00",
   "metadata": {},
   "outputs": [],
   "source": [
    "def get_word_weights_for_class(classifier):\n",
    "    \"\"\"\n",
    "    Get the word weights for a specific class in the classifier.\n",
    "    :param classifier: The trained classifier pipeline.\n",
    "    :param target_class: The target\n",
    "    \"\"\"\n",
    "    vocabulary = classifier[\"vectorizer\"].vocabulary_\n",
    "    weights = classifier[\"log_regressor\"].coef_\n",
    "    print(weights.shape)\n",
    "\n",
    "    word_weights = []\n",
    "    for word in vocabulary.keys():\n",
    "        # if number or too short, ignore\n",
    "        if word.isnumeric() or len(word) < 3:\n",
    "            continue\n",
    "        j = vocabulary[word]\n",
    "        word_weight_in_class = weights[0, j]\n",
    "        word_weights.append((word_weight_in_class, word))\n",
    "    \n",
    "    return word_weights\n"
   ]
  },
  {
   "cell_type": "code",
   "execution_count": 10,
   "id": "45e4c4f8",
   "metadata": {},
   "outputs": [
    {
     "name": "stdout",
     "output_type": "stream",
     "text": [
      "(1, 11418)\n"
     ]
    },
    {
     "data": {
      "application/vnd.plotly.v1+json": {
       "config": {
        "plotlyServerURL": "https://plot.ly"
       },
       "data": [
        {
         "marker": {
          "color": "crimson"
         },
         "name": "More correlated to the class",
         "orientation": "h",
         "type": "bar",
         "x": [
          -1.5001648502264706,
          -0.9186703176793847,
          -0.6366861530994705,
          -0.6208143485263318,
          -0.5721782807161233,
          -0.5658871197371184,
          -0.5251118469380903,
          -0.5153684213361555,
          -0.5147982825151028,
          -0.5076391781316983,
          -0.49390379195196704,
          -0.4838256509564532,
          -0.4338397438597889,
          -0.430490429964834,
          -0.4299638992403791,
          -0.42610750612439846,
          -0.4217727276575977,
          -0.4168745749545533,
          -0.4145463727234184,
          -0.4101831272849349,
          -0.40459355685892245,
          -0.403661980069138,
          -0.3941470169349949,
          -0.3819453808114196,
          -0.36548281596129867,
          -0.3576473613070677,
          -0.34487180624774566,
          -0.34101106594006164,
          -0.33330959005778726,
          -0.32830173831981857
         ],
         "xaxis": "x",
         "y": [
          "game",
          "dont",
          "terrible",
          "product",
          "bugs",
          "money",
          "refunded",
          "worst",
          "product refunded",
          "every",
          "usual",
          "year",
          "work",
          "hackers",
          "make",
          "cant",
          "ever",
          "life",
          "worse",
          "pure",
          "please",
          "sucks",
          "controller",
          "bought",
          "even",
          "fifa",
          "company",
          "theres",
          "unplayable",
          "unbelievably"
         ],
         "yaxis": "y"
        },
        {
         "marker": {
          "color": "seagreen"
         },
         "name": "Less correlated to the class",
         "orientation": "h",
         "type": "bar",
         "x": [
          0.30233115604216754,
          0.3024314000418217,
          0.304824023649978,
          0.306846172395271,
          0.3089616450488717,
          0.3089616450488717,
          0.3106248135910863,
          0.3128034942866957,
          0.3164937683470013,
          0.31891230721340613,
          0.3249642195601416,
          0.3259347306666227,
          0.32726594133807474,
          0.3322046726264429,
          0.3506507736761995,
          0.36391469790511405,
          0.3704468465941273,
          0.3771927262247865,
          0.3866352750316275,
          0.4132166477203127,
          0.4178579397389772,
          0.426484230950632,
          0.42863430695540167,
          0.4332610690138798,
          0.47223628933298073,
          0.5006585762388241,
          0.5170559803889162,
          0.5378368497272316,
          0.5913472064038137,
          0.8001892713108519
         ],
         "xaxis": "x2",
         "y": [
          "mean",
          "play ultimate",
          "team",
          "step",
          "miles",
          "miles better",
          "good good",
          "love football",
          "best game",
          "last",
          "career",
          "games good",
          "game play",
          "gambling",
          "toxic",
          "though",
          "love",
          "rate",
          "offline",
          "real",
          "little",
          "already dont",
          "cant goal",
          "performance",
          "must",
          "good",
          "recommend",
          "better",
          "much",
          "already"
         ],
         "yaxis": "y2"
        }
       ],
       "layout": {
        "annotations": [
         {
          "font": {
           "size": 16
          },
          "showarrow": false,
          "text": "Words more related to 'Not Recommended'",
          "x": 0.225,
          "xanchor": "center",
          "xref": "paper",
          "y": 1,
          "yanchor": "bottom",
          "yref": "paper"
         },
         {
          "font": {
           "size": 16
          },
          "showarrow": false,
          "text": "Words less related to 'Not Recommended'",
          "x": 0.775,
          "xanchor": "center",
          "xref": "paper",
          "y": 1,
          "yanchor": "bottom",
          "yref": "paper"
         }
        ],
        "height": 600,
        "showlegend": false,
        "template": {
         "data": {
          "bar": [
           {
            "error_x": {
             "color": "#2a3f5f"
            },
            "error_y": {
             "color": "#2a3f5f"
            },
            "marker": {
             "line": {
              "color": "white",
              "width": 0.5
             },
             "pattern": {
              "fillmode": "overlay",
              "size": 10,
              "solidity": 0.2
             }
            },
            "type": "bar"
           }
          ],
          "barpolar": [
           {
            "marker": {
             "line": {
              "color": "white",
              "width": 0.5
             },
             "pattern": {
              "fillmode": "overlay",
              "size": 10,
              "solidity": 0.2
             }
            },
            "type": "barpolar"
           }
          ],
          "carpet": [
           {
            "aaxis": {
             "endlinecolor": "#2a3f5f",
             "gridcolor": "#C8D4E3",
             "linecolor": "#C8D4E3",
             "minorgridcolor": "#C8D4E3",
             "startlinecolor": "#2a3f5f"
            },
            "baxis": {
             "endlinecolor": "#2a3f5f",
             "gridcolor": "#C8D4E3",
             "linecolor": "#C8D4E3",
             "minorgridcolor": "#C8D4E3",
             "startlinecolor": "#2a3f5f"
            },
            "type": "carpet"
           }
          ],
          "choropleth": [
           {
            "colorbar": {
             "outlinewidth": 0,
             "ticks": ""
            },
            "type": "choropleth"
           }
          ],
          "contour": [
           {
            "colorbar": {
             "outlinewidth": 0,
             "ticks": ""
            },
            "colorscale": [
             [
              0,
              "#0d0887"
             ],
             [
              0.1111111111111111,
              "#46039f"
             ],
             [
              0.2222222222222222,
              "#7201a8"
             ],
             [
              0.3333333333333333,
              "#9c179e"
             ],
             [
              0.4444444444444444,
              "#bd3786"
             ],
             [
              0.5555555555555556,
              "#d8576b"
             ],
             [
              0.6666666666666666,
              "#ed7953"
             ],
             [
              0.7777777777777778,
              "#fb9f3a"
             ],
             [
              0.8888888888888888,
              "#fdca26"
             ],
             [
              1,
              "#f0f921"
             ]
            ],
            "type": "contour"
           }
          ],
          "contourcarpet": [
           {
            "colorbar": {
             "outlinewidth": 0,
             "ticks": ""
            },
            "type": "contourcarpet"
           }
          ],
          "heatmap": [
           {
            "colorbar": {
             "outlinewidth": 0,
             "ticks": ""
            },
            "colorscale": [
             [
              0,
              "#0d0887"
             ],
             [
              0.1111111111111111,
              "#46039f"
             ],
             [
              0.2222222222222222,
              "#7201a8"
             ],
             [
              0.3333333333333333,
              "#9c179e"
             ],
             [
              0.4444444444444444,
              "#bd3786"
             ],
             [
              0.5555555555555556,
              "#d8576b"
             ],
             [
              0.6666666666666666,
              "#ed7953"
             ],
             [
              0.7777777777777778,
              "#fb9f3a"
             ],
             [
              0.8888888888888888,
              "#fdca26"
             ],
             [
              1,
              "#f0f921"
             ]
            ],
            "type": "heatmap"
           }
          ],
          "histogram": [
           {
            "marker": {
             "pattern": {
              "fillmode": "overlay",
              "size": 10,
              "solidity": 0.2
             }
            },
            "type": "histogram"
           }
          ],
          "histogram2d": [
           {
            "colorbar": {
             "outlinewidth": 0,
             "ticks": ""
            },
            "colorscale": [
             [
              0,
              "#0d0887"
             ],
             [
              0.1111111111111111,
              "#46039f"
             ],
             [
              0.2222222222222222,
              "#7201a8"
             ],
             [
              0.3333333333333333,
              "#9c179e"
             ],
             [
              0.4444444444444444,
              "#bd3786"
             ],
             [
              0.5555555555555556,
              "#d8576b"
             ],
             [
              0.6666666666666666,
              "#ed7953"
             ],
             [
              0.7777777777777778,
              "#fb9f3a"
             ],
             [
              0.8888888888888888,
              "#fdca26"
             ],
             [
              1,
              "#f0f921"
             ]
            ],
            "type": "histogram2d"
           }
          ],
          "histogram2dcontour": [
           {
            "colorbar": {
             "outlinewidth": 0,
             "ticks": ""
            },
            "colorscale": [
             [
              0,
              "#0d0887"
             ],
             [
              0.1111111111111111,
              "#46039f"
             ],
             [
              0.2222222222222222,
              "#7201a8"
             ],
             [
              0.3333333333333333,
              "#9c179e"
             ],
             [
              0.4444444444444444,
              "#bd3786"
             ],
             [
              0.5555555555555556,
              "#d8576b"
             ],
             [
              0.6666666666666666,
              "#ed7953"
             ],
             [
              0.7777777777777778,
              "#fb9f3a"
             ],
             [
              0.8888888888888888,
              "#fdca26"
             ],
             [
              1,
              "#f0f921"
             ]
            ],
            "type": "histogram2dcontour"
           }
          ],
          "mesh3d": [
           {
            "colorbar": {
             "outlinewidth": 0,
             "ticks": ""
            },
            "type": "mesh3d"
           }
          ],
          "parcoords": [
           {
            "line": {
             "colorbar": {
              "outlinewidth": 0,
              "ticks": ""
             }
            },
            "type": "parcoords"
           }
          ],
          "pie": [
           {
            "automargin": true,
            "type": "pie"
           }
          ],
          "scatter": [
           {
            "fillpattern": {
             "fillmode": "overlay",
             "size": 10,
             "solidity": 0.2
            },
            "type": "scatter"
           }
          ],
          "scatter3d": [
           {
            "line": {
             "colorbar": {
              "outlinewidth": 0,
              "ticks": ""
             }
            },
            "marker": {
             "colorbar": {
              "outlinewidth": 0,
              "ticks": ""
             }
            },
            "type": "scatter3d"
           }
          ],
          "scattercarpet": [
           {
            "marker": {
             "colorbar": {
              "outlinewidth": 0,
              "ticks": ""
             }
            },
            "type": "scattercarpet"
           }
          ],
          "scattergeo": [
           {
            "marker": {
             "colorbar": {
              "outlinewidth": 0,
              "ticks": ""
             }
            },
            "type": "scattergeo"
           }
          ],
          "scattergl": [
           {
            "marker": {
             "colorbar": {
              "outlinewidth": 0,
              "ticks": ""
             }
            },
            "type": "scattergl"
           }
          ],
          "scattermap": [
           {
            "marker": {
             "colorbar": {
              "outlinewidth": 0,
              "ticks": ""
             }
            },
            "type": "scattermap"
           }
          ],
          "scattermapbox": [
           {
            "marker": {
             "colorbar": {
              "outlinewidth": 0,
              "ticks": ""
             }
            },
            "type": "scattermapbox"
           }
          ],
          "scatterpolar": [
           {
            "marker": {
             "colorbar": {
              "outlinewidth": 0,
              "ticks": ""
             }
            },
            "type": "scatterpolar"
           }
          ],
          "scatterpolargl": [
           {
            "marker": {
             "colorbar": {
              "outlinewidth": 0,
              "ticks": ""
             }
            },
            "type": "scatterpolargl"
           }
          ],
          "scatterternary": [
           {
            "marker": {
             "colorbar": {
              "outlinewidth": 0,
              "ticks": ""
             }
            },
            "type": "scatterternary"
           }
          ],
          "surface": [
           {
            "colorbar": {
             "outlinewidth": 0,
             "ticks": ""
            },
            "colorscale": [
             [
              0,
              "#0d0887"
             ],
             [
              0.1111111111111111,
              "#46039f"
             ],
             [
              0.2222222222222222,
              "#7201a8"
             ],
             [
              0.3333333333333333,
              "#9c179e"
             ],
             [
              0.4444444444444444,
              "#bd3786"
             ],
             [
              0.5555555555555556,
              "#d8576b"
             ],
             [
              0.6666666666666666,
              "#ed7953"
             ],
             [
              0.7777777777777778,
              "#fb9f3a"
             ],
             [
              0.8888888888888888,
              "#fdca26"
             ],
             [
              1,
              "#f0f921"
             ]
            ],
            "type": "surface"
           }
          ],
          "table": [
           {
            "cells": {
             "fill": {
              "color": "#EBF0F8"
             },
             "line": {
              "color": "white"
             }
            },
            "header": {
             "fill": {
              "color": "#C8D4E3"
             },
             "line": {
              "color": "white"
             }
            },
            "type": "table"
           }
          ]
         },
         "layout": {
          "annotationdefaults": {
           "arrowcolor": "#2a3f5f",
           "arrowhead": 0,
           "arrowwidth": 1
          },
          "autotypenumbers": "strict",
          "coloraxis": {
           "colorbar": {
            "outlinewidth": 0,
            "ticks": ""
           }
          },
          "colorscale": {
           "diverging": [
            [
             0,
             "#8e0152"
            ],
            [
             0.1,
             "#c51b7d"
            ],
            [
             0.2,
             "#de77ae"
            ],
            [
             0.3,
             "#f1b6da"
            ],
            [
             0.4,
             "#fde0ef"
            ],
            [
             0.5,
             "#f7f7f7"
            ],
            [
             0.6,
             "#e6f5d0"
            ],
            [
             0.7,
             "#b8e186"
            ],
            [
             0.8,
             "#7fbc41"
            ],
            [
             0.9,
             "#4d9221"
            ],
            [
             1,
             "#276419"
            ]
           ],
           "sequential": [
            [
             0,
             "#0d0887"
            ],
            [
             0.1111111111111111,
             "#46039f"
            ],
            [
             0.2222222222222222,
             "#7201a8"
            ],
            [
             0.3333333333333333,
             "#9c179e"
            ],
            [
             0.4444444444444444,
             "#bd3786"
            ],
            [
             0.5555555555555556,
             "#d8576b"
            ],
            [
             0.6666666666666666,
             "#ed7953"
            ],
            [
             0.7777777777777778,
             "#fb9f3a"
            ],
            [
             0.8888888888888888,
             "#fdca26"
            ],
            [
             1,
             "#f0f921"
            ]
           ],
           "sequentialminus": [
            [
             0,
             "#0d0887"
            ],
            [
             0.1111111111111111,
             "#46039f"
            ],
            [
             0.2222222222222222,
             "#7201a8"
            ],
            [
             0.3333333333333333,
             "#9c179e"
            ],
            [
             0.4444444444444444,
             "#bd3786"
            ],
            [
             0.5555555555555556,
             "#d8576b"
            ],
            [
             0.6666666666666666,
             "#ed7953"
            ],
            [
             0.7777777777777778,
             "#fb9f3a"
            ],
            [
             0.8888888888888888,
             "#fdca26"
            ],
            [
             1,
             "#f0f921"
            ]
           ]
          },
          "colorway": [
           "#636efa",
           "#EF553B",
           "#00cc96",
           "#ab63fa",
           "#FFA15A",
           "#19d3f3",
           "#FF6692",
           "#B6E880",
           "#FF97FF",
           "#FECB52"
          ],
          "font": {
           "color": "#2a3f5f"
          },
          "geo": {
           "bgcolor": "white",
           "lakecolor": "white",
           "landcolor": "white",
           "showlakes": true,
           "showland": true,
           "subunitcolor": "#C8D4E3"
          },
          "hoverlabel": {
           "align": "left"
          },
          "hovermode": "closest",
          "mapbox": {
           "style": "light"
          },
          "paper_bgcolor": "white",
          "plot_bgcolor": "white",
          "polar": {
           "angularaxis": {
            "gridcolor": "#EBF0F8",
            "linecolor": "#EBF0F8",
            "ticks": ""
           },
           "bgcolor": "white",
           "radialaxis": {
            "gridcolor": "#EBF0F8",
            "linecolor": "#EBF0F8",
            "ticks": ""
           }
          },
          "scene": {
           "xaxis": {
            "backgroundcolor": "white",
            "gridcolor": "#DFE8F3",
            "gridwidth": 2,
            "linecolor": "#EBF0F8",
            "showbackground": true,
            "ticks": "",
            "zerolinecolor": "#EBF0F8"
           },
           "yaxis": {
            "backgroundcolor": "white",
            "gridcolor": "#DFE8F3",
            "gridwidth": 2,
            "linecolor": "#EBF0F8",
            "showbackground": true,
            "ticks": "",
            "zerolinecolor": "#EBF0F8"
           },
           "zaxis": {
            "backgroundcolor": "white",
            "gridcolor": "#DFE8F3",
            "gridwidth": 2,
            "linecolor": "#EBF0F8",
            "showbackground": true,
            "ticks": "",
            "zerolinecolor": "#EBF0F8"
           }
          },
          "shapedefaults": {
           "line": {
            "color": "#2a3f5f"
           }
          },
          "ternary": {
           "aaxis": {
            "gridcolor": "#DFE8F3",
            "linecolor": "#A2B1C6",
            "ticks": ""
           },
           "baxis": {
            "gridcolor": "#DFE8F3",
            "linecolor": "#A2B1C6",
            "ticks": ""
           },
           "bgcolor": "white",
           "caxis": {
            "gridcolor": "#DFE8F3",
            "linecolor": "#A2B1C6",
            "ticks": ""
           }
          },
          "title": {
           "x": 0.05
          },
          "xaxis": {
           "automargin": true,
           "gridcolor": "#EBF0F8",
           "linecolor": "#EBF0F8",
           "ticks": "",
           "title": {
            "standoff": 15
           },
           "zerolinecolor": "#EBF0F8",
           "zerolinewidth": 2
          },
          "yaxis": {
           "automargin": true,
           "gridcolor": "#EBF0F8",
           "linecolor": "#EBF0F8",
           "ticks": "",
           "title": {
            "standoff": 15
           },
           "zerolinecolor": "#EBF0F8",
           "zerolinewidth": 2
          }
         }
        },
        "title": {
         "text": "Correlation of words to the class 'Not Recommended'"
        },
        "width": 1000,
        "xaxis": {
         "anchor": "y",
         "domain": [
          0,
          0.45
         ]
        },
        "xaxis2": {
         "anchor": "y2",
         "domain": [
          0.55,
          1
         ]
        },
        "yaxis": {
         "anchor": "x",
         "autorange": "reversed",
         "domain": [
          0,
          1
         ]
        },
        "yaxis2": {
         "anchor": "x2",
         "domain": [
          0,
          1
         ]
        }
       }
      }
     },
     "metadata": {},
     "output_type": "display_data"
    }
   ],
   "source": [
    "import plotly.graph_objects as go\n",
    "from plotly.subplots import make_subplots\n",
    "\n",
    "# In this case (binary regressor) -> the coefficients that lead to dissatisfaction the most are the ones with the most negative value.\n",
    "# And the ones that move away from dissatisfaction the most are the ones with the most positive value.\n",
    "word_weights = get_word_weights_for_class(classifier)\n",
    "target_str = classifier.classes_[0]\n",
    "\n",
    "sorted_word_weights = sorted(word_weights, reverse=False, key=lambda x: x[0])\n",
    "word_weights_sorted = [t[0] for t in sorted_word_weights]\n",
    "words_sorted = [t[1] for t in sorted_word_weights]\n",
    "\n",
    "# Separate top N negative and top N positive words\n",
    "N_WORDS_TO_VISUALIZE = 30\n",
    "negative_weights = word_weights_sorted[:N_WORDS_TO_VISUALIZE]\n",
    "negative_words = words_sorted[:N_WORDS_TO_VISUALIZE]\n",
    "\n",
    "positive_weights = word_weights_sorted[-N_WORDS_TO_VISUALIZE:]\n",
    "positive_words = words_sorted[-N_WORDS_TO_VISUALIZE:]\n",
    "\n",
    "# Create subplot\n",
    "fig = make_subplots(rows=1, cols=2, subplot_titles=[\n",
    "    f\"Words more related to '{target_str}'\",\n",
    "    f\"Words less related to '{target_str}'\"\n",
    "])\n",
    "\n",
    "# Negative bar chart\n",
    "fig.add_trace(go.Bar(\n",
    "    x=negative_weights,\n",
    "    y=negative_words,\n",
    "    orientation='h',\n",
    "    marker=dict(color='crimson'),\n",
    "    name='More correlated to the class'\n",
    "), row=1, col=1)\n",
    "\n",
    "# Positive bar chart\n",
    "fig.add_trace(go.Bar(\n",
    "    x=positive_weights,\n",
    "    y=positive_words,\n",
    "    orientation='h',\n",
    "    marker=dict(color='seagreen'),\n",
    "    name='Less correlated to the class'\n",
    "), row=1, col=2)\n",
    "\n",
    "# Update layout\n",
    "fig.update_layout(\n",
    "    height=600,\n",
    "    width=1000,\n",
    "    title_text=f\"Correlation of words to the class '{target_str}'\",\n",
    "    showlegend=False,\n",
    "    template=\"plotly_white\"\n",
    ")\n",
    "\n",
    "# Improve axis labels\n",
    "fig.update_yaxes(autorange=\"reversed\", row=1, col=1)\n",
    "fig.update_yaxes(row=1, col=2)\n",
    "\n",
    "fig.show()\n",
    "fig.write_image(\"out/steam_reviews_word_weights.png\", width=1000, height=600)"
   ]
  },
  {
   "cell_type": "markdown",
   "id": "f9b4752d",
   "metadata": {},
   "source": [
    "## LDA"
   ]
  },
  {
   "cell_type": "code",
   "execution_count": 11,
   "id": "6a3b1067",
   "metadata": {},
   "outputs": [],
   "source": [
    "import gensim\n",
    "from gensim import corpora\n",
    "from gensim import models\n",
    "from gensim.models import Nmf\n",
    "from gensim.parsing.preprocessing import remove_stopwords, preprocess_string\n",
    "from nltk.tokenize import word_tokenize"
   ]
  },
  {
   "cell_type": "code",
   "execution_count": 12,
   "id": "25141c68",
   "metadata": {},
   "outputs": [
    {
     "name": "stdout",
     "output_type": "stream",
     "text": [
      "(0, '0.084*\"game\" + 0.027*\"feels\" + 0.025*\"like\"')\n",
      "(1, '0.038*\"game\" + 0.034*\"play\" + 0.028*\"team\"')\n",
      "(2, '0.020*\"like\" + 0.016*\"mode\" + 0.015*\"rewards\"')\n"
     ]
    }
   ],
   "source": [
    "tokens = satisfied['CleanedReview'].apply(lambda x: preprocess_string(x, filters=[remove_stopwords]))\n",
    "\n",
    "N_TOPICS = 3\n",
    "\n",
    "dictionary = corpora.Dictionary(tokens)\n",
    "corpus = [dictionary.doc2bow(token) for token in tokens]\n",
    "\n",
    "# lda = models.ldamodel.LdaModel(corpus, num_topics=N_TOPICS, id2word=dictionary, passes=10, random_state=1, iterations=500)\n",
    "lda = Nmf(corpus, num_topics=N_TOPICS, id2word=dictionary)\n",
    "\n",
    "lista_topico = lda.print_topics(num_words=3)\n",
    "\n",
    "for topico in lista_topico:\n",
    "    print(topico)\n"
   ]
  },
  {
   "cell_type": "code",
   "execution_count": 13,
   "id": "92f176b5",
   "metadata": {},
   "outputs": [],
   "source": [
    "import plotly.express as px\n",
    "from plotly.subplots import make_subplots\n",
    "import plotly.graph_objects as go\n"
   ]
  },
  {
   "cell_type": "code",
   "execution_count": 14,
   "id": "399f1395",
   "metadata": {},
   "outputs": [
    {
     "data": {
      "application/vnd.plotly.v1+json": {
       "config": {
        "plotlyServerURL": "https://plot.ly"
       },
       "data": [
        {
         "marker": {
          "color": [
           0.0838070915137811,
           0.02714293068026692,
           0.02488237786394758,
           0.023881449643509307,
           0.022226034662487338,
           0.017362850799325032,
           0.01628370766347832,
           0.01605292819950977,
           0.013382153365117494,
           0.012778009872384073
          ],
          "coloraxis": "coloraxis"
         },
         "type": "bar",
         "x": [
          "game",
          "feels",
          "like",
          "player",
          "worth",
          "years",
          "better",
          "dont",
          "youre",
          "price"
         ],
         "xaxis": "x",
         "y": [
          0.0838070915137811,
          0.02714293068026692,
          0.02488237786394758,
          0.023881449643509307,
          0.022226034662487338,
          0.017362850799325032,
          0.01628370766347832,
          0.01605292819950977,
          0.013382153365117494,
          0.012778009872384073
         ],
         "yaxis": "y"
        },
        {
         "marker": {
          "color": [
           0.0377074099616505,
           0.03379319840661712,
           0.027782916389035805,
           0.01963608139207529,
           0.018920299821105976,
           0.014964261375241778,
           0.014913542031297963,
           0.013970686700910845,
           0.013367162294681727,
           0.01143914913645218
          ],
          "coloraxis": "coloraxis"
         },
         "type": "bar",
         "x": [
          "game",
          "play",
          "team",
          "ultimate",
          "year",
          "fifa",
          "menu",
          "previous",
          "thing",
          "open"
         ],
         "xaxis": "x2",
         "y": [
          0.0377074099616505,
          0.03379319840661712,
          0.027782916389035805,
          0.01963608139207529,
          0.018920299821105976,
          0.014964261375241778,
          0.014913542031297963,
          0.013970686700910845,
          0.013367162294681727,
          0.01143914913645218
         ],
         "yaxis": "y2"
        },
        {
         "marker": {
          "color": [
           0.020257160374669073,
           0.016142137527667556,
           0.015042738530519795,
           0.013227170623461623,
           0.011844092129111698,
           0.010261368292870268,
           0.009527207116354661,
           0.009422922068193269,
           0.00941254149660482,
           0.00830996571941499
          ],
          "coloraxis": "coloraxis"
         },
         "type": "bar",
         "x": [
          "like",
          "mode",
          "rewards",
          "year",
          "players",
          "games",
          "gameplay",
          "player",
          "people",
          "love"
         ],
         "xaxis": "x3",
         "y": [
          0.020257160374669073,
          0.016142137527667556,
          0.015042738530519795,
          0.013227170623461623,
          0.011844092129111698,
          0.010261368292870268,
          0.009527207116354661,
          0.009422922068193269,
          0.00941254149660482,
          0.00830996571941499
         ],
         "yaxis": "y3"
        }
       ],
       "layout": {
        "annotations": [
         {
          "font": {
           "size": 16
          },
          "showarrow": false,
          "text": "Topic 1",
          "x": 0.225,
          "xanchor": "center",
          "xref": "paper",
          "y": 1,
          "yanchor": "bottom",
          "yref": "paper"
         },
         {
          "font": {
           "size": 16
          },
          "showarrow": false,
          "text": "Topic 2",
          "x": 0.775,
          "xanchor": "center",
          "xref": "paper",
          "y": 1,
          "yanchor": "bottom",
          "yref": "paper"
         },
         {
          "font": {
           "size": 16
          },
          "showarrow": false,
          "text": "Topic 3",
          "x": 0.225,
          "xanchor": "center",
          "xref": "paper",
          "y": 0.6111111111111112,
          "yanchor": "bottom",
          "yref": "paper"
         }
        ],
        "coloraxis": {
         "colorscale": [
          [
           0,
           "rgb(255,0,0)"
          ],
          [
           1,
           "rgb(0,0,255)"
          ]
         ]
        },
        "showlegend": false,
        "template": {
         "data": {
          "bar": [
           {
            "error_x": {
             "color": "#2a3f5f"
            },
            "error_y": {
             "color": "#2a3f5f"
            },
            "marker": {
             "line": {
              "color": "#E5ECF6",
              "width": 0.5
             },
             "pattern": {
              "fillmode": "overlay",
              "size": 10,
              "solidity": 0.2
             }
            },
            "type": "bar"
           }
          ],
          "barpolar": [
           {
            "marker": {
             "line": {
              "color": "#E5ECF6",
              "width": 0.5
             },
             "pattern": {
              "fillmode": "overlay",
              "size": 10,
              "solidity": 0.2
             }
            },
            "type": "barpolar"
           }
          ],
          "carpet": [
           {
            "aaxis": {
             "endlinecolor": "#2a3f5f",
             "gridcolor": "white",
             "linecolor": "white",
             "minorgridcolor": "white",
             "startlinecolor": "#2a3f5f"
            },
            "baxis": {
             "endlinecolor": "#2a3f5f",
             "gridcolor": "white",
             "linecolor": "white",
             "minorgridcolor": "white",
             "startlinecolor": "#2a3f5f"
            },
            "type": "carpet"
           }
          ],
          "choropleth": [
           {
            "colorbar": {
             "outlinewidth": 0,
             "ticks": ""
            },
            "type": "choropleth"
           }
          ],
          "contour": [
           {
            "colorbar": {
             "outlinewidth": 0,
             "ticks": ""
            },
            "colorscale": [
             [
              0,
              "#0d0887"
             ],
             [
              0.1111111111111111,
              "#46039f"
             ],
             [
              0.2222222222222222,
              "#7201a8"
             ],
             [
              0.3333333333333333,
              "#9c179e"
             ],
             [
              0.4444444444444444,
              "#bd3786"
             ],
             [
              0.5555555555555556,
              "#d8576b"
             ],
             [
              0.6666666666666666,
              "#ed7953"
             ],
             [
              0.7777777777777778,
              "#fb9f3a"
             ],
             [
              0.8888888888888888,
              "#fdca26"
             ],
             [
              1,
              "#f0f921"
             ]
            ],
            "type": "contour"
           }
          ],
          "contourcarpet": [
           {
            "colorbar": {
             "outlinewidth": 0,
             "ticks": ""
            },
            "type": "contourcarpet"
           }
          ],
          "heatmap": [
           {
            "colorbar": {
             "outlinewidth": 0,
             "ticks": ""
            },
            "colorscale": [
             [
              0,
              "#0d0887"
             ],
             [
              0.1111111111111111,
              "#46039f"
             ],
             [
              0.2222222222222222,
              "#7201a8"
             ],
             [
              0.3333333333333333,
              "#9c179e"
             ],
             [
              0.4444444444444444,
              "#bd3786"
             ],
             [
              0.5555555555555556,
              "#d8576b"
             ],
             [
              0.6666666666666666,
              "#ed7953"
             ],
             [
              0.7777777777777778,
              "#fb9f3a"
             ],
             [
              0.8888888888888888,
              "#fdca26"
             ],
             [
              1,
              "#f0f921"
             ]
            ],
            "type": "heatmap"
           }
          ],
          "histogram": [
           {
            "marker": {
             "pattern": {
              "fillmode": "overlay",
              "size": 10,
              "solidity": 0.2
             }
            },
            "type": "histogram"
           }
          ],
          "histogram2d": [
           {
            "colorbar": {
             "outlinewidth": 0,
             "ticks": ""
            },
            "colorscale": [
             [
              0,
              "#0d0887"
             ],
             [
              0.1111111111111111,
              "#46039f"
             ],
             [
              0.2222222222222222,
              "#7201a8"
             ],
             [
              0.3333333333333333,
              "#9c179e"
             ],
             [
              0.4444444444444444,
              "#bd3786"
             ],
             [
              0.5555555555555556,
              "#d8576b"
             ],
             [
              0.6666666666666666,
              "#ed7953"
             ],
             [
              0.7777777777777778,
              "#fb9f3a"
             ],
             [
              0.8888888888888888,
              "#fdca26"
             ],
             [
              1,
              "#f0f921"
             ]
            ],
            "type": "histogram2d"
           }
          ],
          "histogram2dcontour": [
           {
            "colorbar": {
             "outlinewidth": 0,
             "ticks": ""
            },
            "colorscale": [
             [
              0,
              "#0d0887"
             ],
             [
              0.1111111111111111,
              "#46039f"
             ],
             [
              0.2222222222222222,
              "#7201a8"
             ],
             [
              0.3333333333333333,
              "#9c179e"
             ],
             [
              0.4444444444444444,
              "#bd3786"
             ],
             [
              0.5555555555555556,
              "#d8576b"
             ],
             [
              0.6666666666666666,
              "#ed7953"
             ],
             [
              0.7777777777777778,
              "#fb9f3a"
             ],
             [
              0.8888888888888888,
              "#fdca26"
             ],
             [
              1,
              "#f0f921"
             ]
            ],
            "type": "histogram2dcontour"
           }
          ],
          "mesh3d": [
           {
            "colorbar": {
             "outlinewidth": 0,
             "ticks": ""
            },
            "type": "mesh3d"
           }
          ],
          "parcoords": [
           {
            "line": {
             "colorbar": {
              "outlinewidth": 0,
              "ticks": ""
             }
            },
            "type": "parcoords"
           }
          ],
          "pie": [
           {
            "automargin": true,
            "type": "pie"
           }
          ],
          "scatter": [
           {
            "fillpattern": {
             "fillmode": "overlay",
             "size": 10,
             "solidity": 0.2
            },
            "type": "scatter"
           }
          ],
          "scatter3d": [
           {
            "line": {
             "colorbar": {
              "outlinewidth": 0,
              "ticks": ""
             }
            },
            "marker": {
             "colorbar": {
              "outlinewidth": 0,
              "ticks": ""
             }
            },
            "type": "scatter3d"
           }
          ],
          "scattercarpet": [
           {
            "marker": {
             "colorbar": {
              "outlinewidth": 0,
              "ticks": ""
             }
            },
            "type": "scattercarpet"
           }
          ],
          "scattergeo": [
           {
            "marker": {
             "colorbar": {
              "outlinewidth": 0,
              "ticks": ""
             }
            },
            "type": "scattergeo"
           }
          ],
          "scattergl": [
           {
            "marker": {
             "colorbar": {
              "outlinewidth": 0,
              "ticks": ""
             }
            },
            "type": "scattergl"
           }
          ],
          "scattermap": [
           {
            "marker": {
             "colorbar": {
              "outlinewidth": 0,
              "ticks": ""
             }
            },
            "type": "scattermap"
           }
          ],
          "scattermapbox": [
           {
            "marker": {
             "colorbar": {
              "outlinewidth": 0,
              "ticks": ""
             }
            },
            "type": "scattermapbox"
           }
          ],
          "scatterpolar": [
           {
            "marker": {
             "colorbar": {
              "outlinewidth": 0,
              "ticks": ""
             }
            },
            "type": "scatterpolar"
           }
          ],
          "scatterpolargl": [
           {
            "marker": {
             "colorbar": {
              "outlinewidth": 0,
              "ticks": ""
             }
            },
            "type": "scatterpolargl"
           }
          ],
          "scatterternary": [
           {
            "marker": {
             "colorbar": {
              "outlinewidth": 0,
              "ticks": ""
             }
            },
            "type": "scatterternary"
           }
          ],
          "surface": [
           {
            "colorbar": {
             "outlinewidth": 0,
             "ticks": ""
            },
            "colorscale": [
             [
              0,
              "#0d0887"
             ],
             [
              0.1111111111111111,
              "#46039f"
             ],
             [
              0.2222222222222222,
              "#7201a8"
             ],
             [
              0.3333333333333333,
              "#9c179e"
             ],
             [
              0.4444444444444444,
              "#bd3786"
             ],
             [
              0.5555555555555556,
              "#d8576b"
             ],
             [
              0.6666666666666666,
              "#ed7953"
             ],
             [
              0.7777777777777778,
              "#fb9f3a"
             ],
             [
              0.8888888888888888,
              "#fdca26"
             ],
             [
              1,
              "#f0f921"
             ]
            ],
            "type": "surface"
           }
          ],
          "table": [
           {
            "cells": {
             "fill": {
              "color": "#EBF0F8"
             },
             "line": {
              "color": "white"
             }
            },
            "header": {
             "fill": {
              "color": "#C8D4E3"
             },
             "line": {
              "color": "white"
             }
            },
            "type": "table"
           }
          ]
         },
         "layout": {
          "annotationdefaults": {
           "arrowcolor": "#2a3f5f",
           "arrowhead": 0,
           "arrowwidth": 1
          },
          "autotypenumbers": "strict",
          "coloraxis": {
           "colorbar": {
            "outlinewidth": 0,
            "ticks": ""
           }
          },
          "colorscale": {
           "diverging": [
            [
             0,
             "#8e0152"
            ],
            [
             0.1,
             "#c51b7d"
            ],
            [
             0.2,
             "#de77ae"
            ],
            [
             0.3,
             "#f1b6da"
            ],
            [
             0.4,
             "#fde0ef"
            ],
            [
             0.5,
             "#f7f7f7"
            ],
            [
             0.6,
             "#e6f5d0"
            ],
            [
             0.7,
             "#b8e186"
            ],
            [
             0.8,
             "#7fbc41"
            ],
            [
             0.9,
             "#4d9221"
            ],
            [
             1,
             "#276419"
            ]
           ],
           "sequential": [
            [
             0,
             "#0d0887"
            ],
            [
             0.1111111111111111,
             "#46039f"
            ],
            [
             0.2222222222222222,
             "#7201a8"
            ],
            [
             0.3333333333333333,
             "#9c179e"
            ],
            [
             0.4444444444444444,
             "#bd3786"
            ],
            [
             0.5555555555555556,
             "#d8576b"
            ],
            [
             0.6666666666666666,
             "#ed7953"
            ],
            [
             0.7777777777777778,
             "#fb9f3a"
            ],
            [
             0.8888888888888888,
             "#fdca26"
            ],
            [
             1,
             "#f0f921"
            ]
           ],
           "sequentialminus": [
            [
             0,
             "#0d0887"
            ],
            [
             0.1111111111111111,
             "#46039f"
            ],
            [
             0.2222222222222222,
             "#7201a8"
            ],
            [
             0.3333333333333333,
             "#9c179e"
            ],
            [
             0.4444444444444444,
             "#bd3786"
            ],
            [
             0.5555555555555556,
             "#d8576b"
            ],
            [
             0.6666666666666666,
             "#ed7953"
            ],
            [
             0.7777777777777778,
             "#fb9f3a"
            ],
            [
             0.8888888888888888,
             "#fdca26"
            ],
            [
             1,
             "#f0f921"
            ]
           ]
          },
          "colorway": [
           "#636efa",
           "#EF553B",
           "#00cc96",
           "#ab63fa",
           "#FFA15A",
           "#19d3f3",
           "#FF6692",
           "#B6E880",
           "#FF97FF",
           "#FECB52"
          ],
          "font": {
           "color": "#2a3f5f"
          },
          "geo": {
           "bgcolor": "white",
           "lakecolor": "white",
           "landcolor": "#E5ECF6",
           "showlakes": true,
           "showland": true,
           "subunitcolor": "white"
          },
          "hoverlabel": {
           "align": "left"
          },
          "hovermode": "closest",
          "mapbox": {
           "style": "light"
          },
          "paper_bgcolor": "white",
          "plot_bgcolor": "#E5ECF6",
          "polar": {
           "angularaxis": {
            "gridcolor": "white",
            "linecolor": "white",
            "ticks": ""
           },
           "bgcolor": "#E5ECF6",
           "radialaxis": {
            "gridcolor": "white",
            "linecolor": "white",
            "ticks": ""
           }
          },
          "scene": {
           "xaxis": {
            "backgroundcolor": "#E5ECF6",
            "gridcolor": "white",
            "gridwidth": 2,
            "linecolor": "white",
            "showbackground": true,
            "ticks": "",
            "zerolinecolor": "white"
           },
           "yaxis": {
            "backgroundcolor": "#E5ECF6",
            "gridcolor": "white",
            "gridwidth": 2,
            "linecolor": "white",
            "showbackground": true,
            "ticks": "",
            "zerolinecolor": "white"
           },
           "zaxis": {
            "backgroundcolor": "#E5ECF6",
            "gridcolor": "white",
            "gridwidth": 2,
            "linecolor": "white",
            "showbackground": true,
            "ticks": "",
            "zerolinecolor": "white"
           }
          },
          "shapedefaults": {
           "line": {
            "color": "#2a3f5f"
           }
          },
          "ternary": {
           "aaxis": {
            "gridcolor": "white",
            "linecolor": "white",
            "ticks": ""
           },
           "baxis": {
            "gridcolor": "white",
            "linecolor": "white",
            "ticks": ""
           },
           "bgcolor": "#E5ECF6",
           "caxis": {
            "gridcolor": "white",
            "linecolor": "white",
            "ticks": ""
           }
          },
          "title": {
           "x": 0.05
          },
          "xaxis": {
           "automargin": true,
           "gridcolor": "white",
           "linecolor": "white",
           "ticks": "",
           "title": {
            "standoff": 15
           },
           "zerolinecolor": "white",
           "zerolinewidth": 2
          },
          "yaxis": {
           "automargin": true,
           "gridcolor": "white",
           "linecolor": "white",
           "ticks": "",
           "title": {
            "standoff": 15
           },
           "zerolinecolor": "white",
           "zerolinewidth": 2
          }
         }
        },
        "xaxis": {
         "anchor": "y",
         "domain": [
          0,
          0.45
         ]
        },
        "xaxis2": {
         "anchor": "y2",
         "domain": [
          0.55,
          1
         ]
        },
        "xaxis3": {
         "anchor": "y3",
         "domain": [
          0,
          0.45
         ]
        },
        "xaxis4": {
         "anchor": "y4",
         "domain": [
          0.55,
          1
         ]
        },
        "xaxis5": {
         "anchor": "y5",
         "domain": [
          0,
          0.45
         ]
        },
        "xaxis6": {
         "anchor": "y6",
         "domain": [
          0.55,
          1
         ]
        },
        "yaxis": {
         "anchor": "x",
         "domain": [
          0.7777777777777778,
          1
         ]
        },
        "yaxis2": {
         "anchor": "x2",
         "domain": [
          0.7777777777777778,
          1
         ],
         "matches": "y",
         "showticklabels": false
        },
        "yaxis3": {
         "anchor": "x3",
         "domain": [
          0.3888888888888889,
          0.6111111111111112
         ]
        },
        "yaxis4": {
         "anchor": "x4",
         "domain": [
          0.3888888888888889,
          0.6111111111111112
         ],
         "matches": "y3",
         "showticklabels": false
        },
        "yaxis5": {
         "anchor": "x5",
         "domain": [
          0,
          0.22222222222222224
         ]
        },
        "yaxis6": {
         "anchor": "x6",
         "domain": [
          0,
          0.22222222222222224
         ],
         "matches": "y5",
         "showticklabels": false
        }
       }
      }
     },
     "metadata": {},
     "output_type": "display_data"
    }
   ],
   "source": [
    "lda_top = lda.show_topics(formatted=False)\n",
    "\n",
    "fig = make_subplots(rows=3, cols=2, shared_yaxes=True, subplot_titles=[f\"Topic {i+1}\" for i in range(N_TOPICS)],)\n",
    "\n",
    "for i in range(N_TOPICS):\n",
    "    topico = lda_top[i][1]\n",
    "    topico.sort(key=lambda x: x[1], reverse=True)\n",
    "\n",
    "    palavra = list(zip(*topico))[0]\n",
    "    score = list(zip(*topico))[1]\n",
    "    \n",
    "    fig.add_trace(go.Bar(x=palavra, y=score,\n",
    "                         marker=dict(color=score, coloraxis=\"coloraxis\")), i // 2 + 1, i % 2 + 1)\n",
    "    \n",
    "fig.update_layout(coloraxis=dict(colorscale='Bluered_r'), showlegend=False)\n",
    "fig.show()\n",
    "fig.write_image(\"out/satisfied_review_topics.png\", width=1000, height=600)\n"
   ]
  },
  {
   "cell_type": "markdown",
   "id": "71f85c53",
   "metadata": {},
   "source": [
    "# Analysing most relevant comments with LLM"
   ]
  },
  {
   "cell_type": "code",
   "execution_count": 1,
   "id": "deaeb69b",
   "metadata": {},
   "outputs": [],
   "source": [
    "from openai import AzureOpenAI\n",
    "from dotenv import load_dotenv\n",
    "import os"
   ]
  },
  {
   "cell_type": "markdown",
   "id": "5254b4bd",
   "metadata": {},
   "source": [
    "For running this part, create a `.env` file in the same folder as the notebook and add the keys:\n",
    "```\n",
    "API_KEY = <Azure Open AI API KEY>\n",
    "API_ENDPOINT = <Azure EndPoint>\n",
    "```"
   ]
  },
  {
   "cell_type": "code",
   "execution_count": 2,
   "id": "2945eb1d",
   "metadata": {},
   "outputs": [],
   "source": [
    "load_dotenv()\n",
    "\n",
    "client = AzureOpenAI(\n",
    "    api_key=os.getenv(\"API_KEY\"),\n",
    "    api_version=\"2024-12-01-preview\",\n",
    "    azure_endpoint=os.getenv(\"API_ENDPOINT\")\n",
    ")"
   ]
  },
  {
   "cell_type": "code",
   "execution_count": null,
   "id": "36f67803",
   "metadata": {},
   "outputs": [
    {
     "name": "stdout",
     "output_type": "stream",
     "text": [
      "### **Summary of Reviews and Developer Insights for EA Sports FC 25**\n",
      "\n",
      "#### **General Sentiments**\n",
      "- **Improved but Still Flawed**: Most players agree that *EA Sports FC 25* is an improvement over previous titles like FIFA 23 and 24, particularly in offline gameplay and Career Mode. However, the game still suffers from issues that undermine the overall experience (e.g., bugs, copy-pasted elements, and pricing strategies).\n",
      "\n",
      "- **Offline Gameplay is the Highlight**: Career Mode has garnered substantial praise, with users appreciating its updates, enhanced gameplay mechanics, and added realism. However, many feel these updates could still benefit from greater depth and refinement.\n",
      "\n",
      "- **Online Modes Are Disappointing**: Online gameplay has received significant criticism for being repetitive, unbalanced, and plagued by unskilled players spamming meta strategies (e.g., overusing specific players like Mbappé). Many reviewers avoid online modes entirely due to these issues.\n",
      "\n",
      "- **Technical Issues Are Prevalent**: Players report numerous bugs, optimization problems (especially on PC), and controller compatibility issues across platforms, dampening the game's usability and initial impression.\n",
      "\n",
      "- **Pricing Is a Barrier**: Several users criticize the $70 price tag, feeling the improvements do not justify the cost. Some explicitly recommend waiting for discounts to purchase the game.\n",
      "\n",
      "---\n",
      "\n",
      "#### **Key Strengths**\n",
      "1. **Improved Career Modes**:\n",
      "   - Tactical gameplay now feels more realistic, with users appreciating that strategies like defending and timing matter more.\n",
      "   - New features like an improved Youth Academy and youth tournaments are highly appreciated, although there’s room for these features to have more depth.\n",
      "   - Manager career mode is praised for being one of the best iterations in recent years, with realism in gameplay approach aligning with actual football dynamics.\n",
      "\n",
      "2. **Improved Dribbling and Gameplay**:\n",
      "   - Players have noted that dribbling feels more responsive compared to previous titles, enhancing the control and fun of gameplay.\n",
      "\n",
      "3. **Visual and Animation Updates**:\n",
      "   - Subtle improvements to gameplay animations (e.g., player movements in defending and attacking) have been positively received.\n",
      "\n",
      "---\n",
      "\n",
      "#### **Key Weaknesses and Opportunities for Improvement**\n",
      "1. **Technical Issues**:\n",
      "   - **PC Optimization Problems**: PC users frequently report issues such as the game failing to launch due to EA Anticheat and performance bugs. This is a critical area that requires immediate attention to avoid alienating a portion of the user base.\n",
      "   - **Controller Compatibility**: Reports of controller bugs are widespread, with many players sharing temporary fixes but requiring an official patch from EA. This is a recurring frustration for both PS4 and PS5 users.\n",
      "\n",
      "2. **Copy-Paste Content**:\n",
      "   - Post-match interviews, cutscenes, and animations feel recycled from *EAFC 23-24*, making the game feel lazy and uninspired in areas beyond gameplay updates.\n",
      "   - Many users express a desire for fresh, engaging cutscenes and more variety in these areas to reduce the feeling of repetitiveness.\n",
      "\n",
      "3. **Shallow Career Mode Features**:\n",
      "   - **Youth Academy Depth**: While youth tournaments are appreciated, players feel this system lacks depth (e.g., limited interactions or progression mechanics).\n",
      "   - **Social Media Feature**: Feels like a rehash of older features without meaningful differences.\n",
      "   - **Manager Salary**: Players note that the salary mechanic is pointless, as there is nothing relevant to spend money on. Introducing a system where the manager’s salary has utility (e.g., funding team upgrades or personal goals) could add immersion.\n",
      "   - **Customization Options for Stadiums and Clubs**: Many players want more robust customization options for their clubs and stadiums to enhance the feeling of ownership and personalization.\n",
      "\n",
      "4. **AI Inconsistencies**:\n",
      "   - AI behavior can feel unpredictable and inconsistent. It alternates between being overly challenging or noticeably easy, which frustrates users looking for a fair and satisfying experience. Developers should focus on refining AI balance to make matches more enjoyable.\n",
      "\n",
      "5. **Online Mode: Lack of Skill Balance**:\n",
      "   - Online matches are shallow, with users complaining about meta-abuse (e.g., players relying on specific teams like Real Madrid and overusing top players like Mbappé). A possible solution could involve balancing mechanics or offering incentives to use less popular teams.\n",
      "\n",
      "6. **Limited Historical Data for Career Mode**:\n",
      "   - Players request more robust tracking of past season results, including league finishes, stats, and achievements for all teams and players. Implementing such features would increase immersion significantly.\n",
      "\n",
      "---\n",
      "\n",
      "#### **Pricing Criticism**\n",
      "- **$70 Price Tag Concerns**: Players overwhelmingly find the game overpriced for the incremental improvements and suggest waiting for sales. EA may consider reevaluating pricing strategies or offering compelling discounts during launch periods to improve adoption rates.\n",
      "\n",
      "---\n",
      "\n",
      "#### **Actionable Recommendations for Developers**\n",
      "1. **Address Technical Issues**:\n",
      "   - Fix PC version optimization, especially the EA Anticheat-related issues.\n",
      "   - Release an official fix for controller compatibility issues across platforms and communicate it widely to affected players.\n",
      "\n",
      "2. **Enhance Career Mode**:\n",
      "   - Deepen features like the Youth Academy by adding more layers (e.g., individual player progression stories or training systems).\n",
      "   - Add meaningful uses for the manager’s salary.\n",
      "   - Introduce more options for club and stadium customization.\n",
      "   - Expand post-match scenarios and add variety to animations and interviews.\n",
      "   - Provide access to historical data (e.g., previous seasons’ results, league standings, top scorers).\n",
      "\n",
      "3. **Revive Online Modes**:\n",
      "   - Introduce penalties or limitations for repetitive team usage in online play to encourage diversity.\n",
      "   - Incentivize alternative playstyles and the use of non-meta strategies.\n",
      "\n",
      "4. **Improve AI Consistency**:\n",
      "   - Focus on creating balanced and predictable AI behavior in career and offline modes that offers engaging challenges for players.\n",
      "\n",
      "5. **Justify the Price Tag**:\n",
      "   - If the price remains at $70, substantial updates to graphics, new features, and innovation are expected by players. Alternatively, EA could explore ways to offer more discounts or bonuses for early adopters.\n",
      "\n",
      "6. **Communicate with the Community**:\n",
      "   - Be transparent about upcoming patches and fixes for technical problems.\n",
      "   - Engage with the community to understand their frustrations and ideas—it may help repair the negative sentiment associated with EA as a brand.\n",
      "\n",
      "---\n",
      "\n",
      "#### **Conclusion**\n",
      "*EA Sports FC 25* is a step forward in certain areas like Career Mode and gameplay responsiveness, but it remains constrained by longstanding issues. Developers should prioritize technical fixes, add depth to Career Mode mechanics, and innovate in repetitive areas to justify the game’s premium pricing and meet player expectations. Addressing these concerns promptly could enhance goodwill among players and build a more loyal player base for future releases.\n"
     ]
    }
   ],
   "source": [
    "top_10_reviews = satisfied.sort_values(by=\"Helpful\", ascending=False).iloc[:10, :][\"Review\"].to_list()\n",
    "\n",
    "review_list = \"\\n\".join(f\"- {i+1}: {r}\" for i, r in enumerate(top_10_reviews))\n",
    "\n",
    "good_reviews_prompt = f\"\"\"You are a helpful assistant. I will give you a list of reviews about a game.\n",
    "Your task is to summarize the reviews, and search for insights that can be useful for the game developers.\n",
    "Please, be very specific and detailed in your answer.\n",
    "Here are the reviews:\n",
    "{review_list}\n",
    "\"\"\"\n",
    "\n",
    "response = client.chat.completions.create(\n",
    "    model=\"gpt-4.1-nano\",\n",
    "    messages=[{\"role\": \"user\", \"content\": good_reviews_prompt}],\n",
    ")\n",
    "\n",
    "out = response.choices[0].message.content\n",
    "\n",
    "print(out)\n",
    "\n",
    "with open(\"out/good_reviews_summary_gpt.md\", \"w\") as f:\n",
    "    f.write(out)"
   ]
  },
  {
   "cell_type": "code",
   "execution_count": null,
   "id": "29fd2613",
   "metadata": {},
   "outputs": [
    {
     "name": "stdout",
     "output_type": "stream",
     "text": [
      "### Key Insights and Suggestions for Developers Based on Bad Reviews\n",
      "\n",
      "The reviews of the game reveal a host of issues across gameplay, monetization, optimization, and general user experience. Below are detailed insights and possible avenues for improvement:\n",
      "\n",
      "---\n",
      "\n",
      "## 1. **Gameplay Mechanics: Lack of Responsiveness, AI Manipulation, and Perceived \"Scripting\"**\n",
      "   Many players are frustrated with the in-game experience, particularly the mechanics that feel unfair, inconsistent, or outright \"manipulated.\" Common issues include:\n",
      "   - **Dynamic Difficulty Adjustment (DDA) or \"Scripting\":** Players feel that outcomes are artificially determined to drive monetary engagement in modes like Ultimate Team. Examples include:\n",
      "     - AI inexplicably outperforming human players (e.g., low-rated defenders outrunning high-rated attackers).\n",
      "     - Predictable match outcomes based on perceived AI intervention or “cheating.”\n",
      "   - **Unresponsive Player Controls:**\n",
      "     - Commands during crucial moments, such as shooting or passing, frequently result in unintended actions (e.g., passes going in the wrong direction, inability to switch defenders manually).\n",
      "     - Defenders standing idle or giving penalties without player input leads to further frustration.\n",
      "     - AI-controlled opponents making unrealistically precise movements or fouls that aren't penalized.\n",
      "   - **Break in Immersion:**\n",
      "     - Unnatural opponent behavior, such as retreating to their keeper when trailing late in matches.\n",
      "     - Over-the-top events that feel “programmed” rather than skill-based (e.g., absurdly effective goalkeepers or defenders seeming to \"teleport\").\n",
      "\n",
      "   **Suggested Actions:**\n",
      "   - Address AI behavior to make matches feel fair and balanced. Players want skill-based outcomes, not results determined by \"invisible forces.\"\n",
      "   - Provide **transparency** about game mechanics (e.g., any implemented difficulty adjustment algorithms). If DDA is used, test if its impact can be toned down or limited to specific game modes.\n",
      "   - Improve responsiveness and input accuracy for player controls, especially during critical moments.\n",
      "   - Test edge cases where the AI behavior breaks immersion (e.g., irrational decisions like unnecessary back-passing in losing scenarios).\n",
      "\n",
      "---\n",
      "\n",
      "## 2. **Monetization Criticisms: Pay-to-Win and Predatory Loot Boxes**\n",
      "   Players are highly critical of the monetization strategy employed, particularly in Ultimate Team (UT). Complaints suggest the game feels more like a “casino” than a football simulation:\n",
      "   - **Pay-to-Win Mechanics:**\n",
      "     - Player success depends heavily on purchasing loot boxes or packs, especially in UT mode.\n",
      "     - Skill feels secondary to the depth of a user's wallet, alienating non-spending or low-spending players.\n",
      "   - **Loot Boxes as RNG Gambling:** \n",
      "     - The randomized reward system feels exploitative, particularly given the game’s appeal to younger audiences.\n",
      "     - Scenarios where substantial purchases still yield poor rewards exacerbate the frustration.\n",
      "   - Ethical concerns are raised repeatedly about targeting children with psychologically manipulative systems.\n",
      "\n",
      "   **Suggested Actions:**\n",
      "   - Reconsider monetization models, incorporating **non-pay-to-win options** to reward skill rather than spending (e.g., allowing players to grind for top-tier items or players).\n",
      "   - Provide **greater transparency** about loot box mechanics (e.g., drop rates).\n",
      "   - Introduce alternative modes for players who don’t want to participate in the monetized ecosystem.\n",
      "   - Consider offering a “Base Mode” for Ultimate Team, stripped of paid advantages, to provide a skill-focused experience.\n",
      "\n",
      "---\n",
      "\n",
      "## 3. **Lack of Innovation and Recycled Features**\n",
      "   Players report that recent iterations of the game feel like reskins of previous versions, with minimal meaningful improvements:\n",
      "   - **Identical UI and Menus:** The interface feels unpolished and recycled. Simplified menu designs in certain modes (e.g., Manager Mode) also detract from the experience.\n",
      "   - **Recycled Issues and Bugs:** Long-standing issues in gameplay, freezing, crashing, and servers remain unfixed.\n",
      "   - **Minimal and Superficial Improvements:** While rare players admitted to minor improvements (e.g., better ball control or Rush mode), most perceive the game as stagnating.\n",
      "   - Players see EA’s yearly release cycle as primarily money-driven without offering genuine innovation.\n",
      "\n",
      "   **Suggested Actions:**\n",
      "   - **Redesign the UI:** Invest resources into creating a fresh, intuitive, and user-friendly interface for modes like Manager Mode and main menus.\n",
      "   - **Emphasize real improvements:** Clearly communicate meaningful gameplay or graphical enhancements in marketing campaigns.\n",
      "   - Reinforce testing to improve **bug fixing** and reduce crashes/freezing.\n",
      "   - If significant changes aren't possible yearly, consider moving to a **live-service model** (e.g., a single base game with seasonal updates) rather than releasing what players feel are near-identical annual versions.\n",
      "\n",
      "---\n",
      "\n",
      "## 4. **Optimization Issues (Particularly for PC)**\n",
      "   Many PC players report issues with optimization:\n",
      "   - **Laggy Input and Servers:** Online gameplay suffers from severe lag, leading to unplayable matches on unreliable servers.\n",
      "   - **Poor PC Optimization and Perpetual Bugs:** Reviews highlight consistent freezing, crashes, or performance problems that remain unresolved despite large-scale forum discussions. \n",
      "   - Players purchasing the game on PC feel overlooked compared to console users.\n",
      "   - Significant dissatisfaction with the value of paying full price for a game that doesn’t function properly.\n",
      "\n",
      "   **Suggested Actions:**\n",
      "   - Allocate dedicated resources to PC optimization testing and troubleshooting. Performance differences between platforms should be addressed.\n",
      "   - Improve server infrastructure to reduce online lag and provide smoother input responses.\n",
      "   - Actively engage with the player community (e.g., forums) to resolve widespread and persistent technical issues. Transparency about planned fixes can restore goodwill.\n",
      "\n",
      "---\n",
      "\n",
      "## 5. **Negative Value Perception**\n",
      "   Many players feel the game doesn’t justify its price:\n",
      "   - Considering the minimal upgrades, bugs, poor optimization, and reliance on microtransactions, users feel the game lacks value unless bought at a heavy discount.\n",
      "   - Angry customers even request **refunds** (e.g., €70 in one review) for not being able to play a smooth game two weeks post-purchase.\n",
      "   - Long-time players who have stuck with the franchise for years see this version as the “worst yet.”\n",
      "\n",
      "   **Suggested Actions:**\n",
      "   - Adjust pricing models based on comprehensive quality evaluations. If a game is released with major performance or balancing issues, discounts or compensations for affected players may soften the backlash.\n",
      "   - Shift toward a **sustainable live-service model** (e.g., offering updates akin to software patches) to lower costs for loyal players while gradually refining mechanics.\n",
      "   - Offer goodwill gestures to customers frustrated by broken releases, such as free bonus content, in-game currency, or partial refunds.\n",
      "\n",
      "---\n",
      "\n",
      "## Summary of Key Concerns:\n",
      "- **Gameplay Issues:** Unfair and unresponsive mechanics with overt AI manipulation.\n",
      "- **Monetization Criticism:** Overwhelming “pay-to-win” culture with predatory loot boxes exploiting vulnerable demographics.\n",
      "- **Recycled Content:** Players perceive little effort beyond reskinning previous editions.\n",
      "- **Optimization Problems:** Persistent lag, crashes, and poor PC performance damage user experience.\n",
      "- **Price vs. Value:** Poor quality at launch doesn't justify the high retail price, leaving players feeling exploited.\n",
      "\n",
      "## Suggested Developer Focus in Future Iterations:\n",
      "1. Prioritize **fairness and skill-based gameplay** by reevaluating AI balance and removing/reducing manipulative mechanics (such as scripting/DDA).\n",
      "2. Overhaul **monetization models** to make them more ethical and less alienating for low/no-spend players.\n",
      "3. Invest in **UI/UX design refresher** to prevent the game from feeling repetitive and stale.\n",
      "4. Dedicate resources to **PC optimization and server reliability**.\n",
      "5. Focus on building **long-term goodwill** with the community by delivering polished, genuine improvements and addressing long-standing complaints.\n",
      "\n",
      "By addressing these criticisms, developers can rebuild trust in the fanbase, reduce backlash, and create a game that feels fun, fair, and rewarding.\n"
     ]
    }
   ],
   "source": [
    "worse_10_reviews = not_satisfied.sort_values(by=\"Helpful\", ascending=False).iloc[:10, :][\"Review\"].to_list()\n",
    "\n",
    "review_list = \"\\n\".join(f\"- {i+1}: {r}\" for i, r in enumerate(worse_10_reviews))\n",
    "\n",
    "bad_reviews_prompt = f\"\"\"You are a helpful assistant. I will give you a list of only the bad reviews about a game.\n",
    "Your task is to summarize the reviews, and search for insights that can be useful for the game developers.\n",
    "Please, be very specific and detailed in your answer.\n",
    "Here are the reviews:\n",
    "{review_list}\n",
    "\"\"\"\n",
    "\n",
    "response = client.chat.completions.create(\n",
    "    model=\"gpt-4.1-nano\",\n",
    "    messages=[{\"role\": \"user\", \"content\": bad_reviews_prompt}],\n",
    ")\n",
    "\n",
    "out = response.choices[0].message.content\n",
    "\n",
    "print(out)\n",
    "\n",
    "with open(\"out/bad_reviews_summary_gpt.md\", \"w\") as f:\n",
    "    f.write(out)"
   ]
  }
 ],
 "metadata": {
  "kernelspec": {
   "display_name": ".venv",
   "language": "python",
   "name": "python3"
  },
  "language_info": {
   "codemirror_mode": {
    "name": "ipython",
    "version": 3
   },
   "file_extension": ".py",
   "mimetype": "text/x-python",
   "name": "python",
   "nbconvert_exporter": "python",
   "pygments_lexer": "ipython3",
   "version": "3.12.7"
  }
 },
 "nbformat": 4,
 "nbformat_minor": 5
}
