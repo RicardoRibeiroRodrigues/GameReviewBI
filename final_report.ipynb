{
 "cells": [
  {
   "cell_type": "markdown",
   "id": "a5e37778",
   "metadata": {},
   "source": [
    "# Game Review Analysis Project Documentation\n",
    "\n",
    "## Final project for text analysis of unstructured sources \n",
    "\n",
    "### Students\n",
    "- Guilherme Fontana Louro\n",
    "- Ricardo Ribeiro Rodrigues\n",
    "- William Kenzo\n",
    "- Natália Queiroz Carreras"
   ]
  },
  {
   "cell_type": "markdown",
   "id": "31243472",
   "metadata": {},
   "source": [
    "## Project Overview\n",
    "This project aims to analyze Steam game reviews using Natural Language Processing (NLP) techniques to identify key words and patterns in positive and negative reviews. The analysis provides insights into what aspects of games players appreciate or criticize the most."
   ]
  },
  {
   "cell_type": "markdown",
   "id": "5a62da56",
   "metadata": {},
   "source": [
    "## Main Components\n",
    "\n",
    "### 1. Data Collection\n",
    "- Web scraping of Steam reviews using Selenium\n",
    "- Automated scrolling to collect a large number of reviews\n",
    "- Extraction of review text, recommendation status, and helpful votes\n",
    "- Support for multiple languages (e.g., Brazilian Portuguese)\n",
    "\n",
    "### 2. Data Preprocessing\n",
    "- Cleaning of review text (removing dates, extra spaces)\n",
    "- Text normalization and preparation for NLP analysis\n",
    "- Handling of special characters and formatting\n",
    "\n",
    "### 3. NLP Analysis\n",
    "- Sentiment analysis of reviews\n",
    "- Keyword extraction and frequency analysis\n",
    "- Identification of common themes in positive and negative reviews\n",
    "- Analysis of review helpfulness and its correlation with content\n",
    "\n",
    "### 4. Visualization and Insights\n",
    "- Word clouds and frequency distributions\n",
    "- Comparative analysis between positive and negative reviews\n",
    "- Key findings and patterns in player feedback\n",
    "- Statistical analysis of review metrics"
   ]
  },
  {
   "cell_type": "markdown",
   "id": "f64549db",
   "metadata": {},
   "source": [
    "## Technical Implementation\n",
    "- Python-based implementation using Jupyter Notebooks\n",
    "- Key libraries:\n",
    "  - Selenium for web scraping\n",
    "  - NLTK for natural language processing\n",
    "  - pandas for data manipulation\n",
    "  - matplotlib for visualization\n",
    "- Automated data collection and processing pipeline\n",
    "- Modular code structure for easy maintenance and updates\n",
    "\n",
    "## Results and Findings\n",
    "- Identification of key factors influencing player satisfaction\n",
    "- Common themes in positive and negative reviews\n",
    "- Quantitative analysis of review sentiment distribution\n",
    "- Correlation between review content and helpfulness votes\n",
    "- Language-specific insights for different regions\n",
    "\n",
    "## Usage Instructions\n",
    "1. Ensure all required Python packages are installed\n",
    "2. Configure the game ID in the scraping script\n",
    "3. Run the data collection process\n",
    "4. Execute the analysis notebooks in sequence\n",
    "5. Review the generated visualizations and insights"
   ]
  },
  {
   "cell_type": "markdown",
   "id": "7ab64f54",
   "metadata": {},
   "source": [
    "## Dependencies\n",
    "- Python 3.x\n",
    "- Selenium\n",
    "- NLTK\n",
    "- pandas\n",
    "- matplotlib\n",
    "- Chrome WebDriver (for Selenium)"
   ]
  },
  {
   "cell_type": "markdown",
   "id": "012a9f87",
   "metadata": {},
   "source": [
    "# Data collection"
   ]
  },
  {
   "cell_type": "code",
   "execution_count": null,
   "id": "8763019a",
   "metadata": {},
   "outputs": [],
   "source": [
    "from selenium import webdriver\n",
    "from selenium.webdriver.common.by import By\n",
    "from selenium.webdriver.chrome.options import Options\n",
    "from selenium.webdriver.chrome.service import Service\n",
    "from webdriver_manager.chrome import ChromeDriverManager\n",
    "import time\n",
    "import csv\n",
    "import re"
   ]
  },
  {
   "cell_type": "code",
   "execution_count": null,
   "id": "af36e2c4",
   "metadata": {},
   "outputs": [],
   "source": [
    "service = Service(ChromeDriverManager().install())\n",
    "options = Options()\n",
    "# options.add_argument(\"--headless\")\n",
    "options.add_argument(\"--no-sandbox\")\n",
    "\n",
    "driver = webdriver.Chrome(service=service, options=options)"
   ]
  },
  {
   "cell_type": "markdown",
   "id": "e8194497",
   "metadata": {},
   "source": [
    "#### How to Get the Game's Review URL\n",
    "To get the URL for a game's reviews, search for the game on Steam, enter its page, and get the ID that appears after `/app/`\n",
    "\n",
    "Example:\n",
    "Steam URL for FIFA: `https://store.steampowered.com/app/1506830/FIFA_22/`\n",
    "\n",
    "The ID is `1506830`, and the link for reviews is: https://steamcommunity.com/app/1506830/reviews/?browsefilter=toprated"
   ]
  },
  {
   "cell_type": "code",
   "execution_count": null,
   "id": "dff92c65",
   "metadata": {},
   "outputs": [
    {
     "name": "stdout",
     "output_type": "stream",
     "text": [
      "Scrolling and collecting reviews...\n",
      "Found 10 review cards on scroll 1\n",
      "Found 20 review cards on scroll 2\n",
      "Found 30 review cards on scroll 3\n",
      "Found 40 review cards on scroll 4\n",
      "Found 50 review cards on scroll 5\n",
      "Found 60 review cards on scroll 6\n",
      "Found 70 review cards on scroll 7\n",
      "Found 80 review cards on scroll 8\n",
      "Found 90 review cards on scroll 9\n",
      "Found 100 review cards on scroll 10\n",
      "Found 110 review cards on scroll 11\n",
      "Found 120 review cards on scroll 12\n",
      "Found 130 review cards on scroll 13\n",
      "Found 140 review cards on scroll 14\n",
      "Found 150 review cards on scroll 15\n",
      "Found 160 review cards on scroll 16\n",
      "Found 170 review cards on scroll 17\n",
      "Found 180 review cards on scroll 18\n",
      "Found 190 review cards on scroll 19\n",
      "Found 200 review cards on scroll 20\n",
      "Found 210 review cards on scroll 21\n",
      "Found 220 review cards on scroll 22\n",
      "Found 230 review cards on scroll 23\n",
      "Found 240 review cards on scroll 24\n",
      "Found 250 review cards on scroll 25\n",
      "Found 260 review cards on scroll 26\n",
      "Found 270 review cards on scroll 27\n",
      "Found 280 review cards on scroll 28\n",
      "Found 290 review cards on scroll 29\n",
      "Found 300 review cards on scroll 30\n",
      "Found 310 review cards on scroll 31\n",
      "Found 320 review cards on scroll 32\n",
      "Found 330 review cards on scroll 33\n",
      "Found 340 review cards on scroll 34\n",
      "Found 350 review cards on scroll 35\n",
      "Found 360 review cards on scroll 36\n",
      "Found 370 review cards on scroll 37\n",
      "Found 380 review cards on scroll 38\n",
      "Found 390 review cards on scroll 39\n",
      "Found 400 review cards on scroll 40\n",
      "Collected 400 reviews.\n"
     ]
    },
    {
     "data": {
      "text/plain": [
       "[{'text': \"Posted: 19 November, 2024\\nTL:DR - This game is a psychologically manipulative Skinner box. It is designed to be addictive, and to get as much money out of you as possible. Scripting, implemented to encourage FUT players to spend more money, is in every mode and makes every game an unsatisfying and empty experience. Considering a core demographic for this game is children, the income-focused manipulation displayed here is repugnant.\\n\\nDDA (dynamic difficulty adjustment) or scipting is just ridiculous now. In games against EA's garbage AI, if the game wants your opponent to score, they'll respond to your controller inputs instantly, not the actions of the player you're controlling. Easy tackles with world class defenders will either miss, bounce the ball to another opponent, just outright phase through the ball or even the damn player! Your keeper will do a Matrix-esque dodge of a shot coming directly at them or will spill an easy catch directly into their striker. The most outrageous though, is player switching on loose balls and when contesting headers. The game will sometimes prevent you from switching to a player (even manually with the right stick) if they're close enough to win a loose ball or are in the best position to win a header. They will instead just stand there, staring blankly into the distance, until the opponent wins back possession. It's the most obvious example of the game cheating to achieve the outcome it wants. This stuff is so obvious that I've been able to predict when a goal is coming, just by how many advantages the AI gets.\\n\\nOther examples:\\n- 30 year old fullback with 60 pace will gain an otherworldly burst of speed to get ahead of my winger with 90 pace\\n- Players will frequently and deliberately place themselves in a position to lose headers, even if you're instructing them to do the opposite\\n- Opposition defenders will basically teleport to tackle you the second you press shoot in the box\\n- Your passes will frequently go to a player in the complete opposite direction to the one you've commanded\\n- Uncontrolled defenders will randomly clatter someone in the box, giving away a penalty\\n- Some of the AI's most outrageous Sunday league fouls just won't be given\\n- If the game doesn't want you to score anymore (or has the scoreline it wants to achieve), the opposition will just pass the ball around the back or run all the way back to the keeper upon any pressure. This would be fine if they weren't 2-1 down at 70', where any team would be pushing hard for an equaliser. Again, just breaks the immersion.\\n- If the game wants you to score, all of these advantages are removed and opposing players lose 50 IQ points. It's ridiculously transparent.\\n\\nThese problems extend to all other game modes, especially Ultimate Team.\\n\\nAt the end of the day, all this does is damage the experience. Wins don't feel earned, since it's obvious that the game is allowing you to win. When you lose it's often because of the above advantages, not from been legitimately outplayed. For a game that aims to recreate football, it fails spectacularly in presenting the core part of that experience; the in-match gameplay. Neglecting this, by adding a scripting or variable difficulty system to psychologically manipulate FUT players to spend more money, not only irrevocably destroys the experience in all modes, but is also outrageously anti-consumer. I knew on reputation that EA Sports games were microtransaction ridden hellholes but this is predatory to a degree I've never seen before. Considering a core demographic for this game is children, manipulation like this is repugnant. Honestly, I feel dirty having spent money on this.\\n\\nDo not buy this or any other EA Sports Skinner box, it's a prime example of everything wrong with this heinous company.\",\n",
       "  'recommendation': 'Not Recommended',\n",
       "  'helpful': 799},\n",
       " {'text': \"Posted: 6 January\\nWorst Fifa ever, terrible passing, shooting, lag input, servers are so laggy.\\n\\nDON'T BUY THIS GAME!!!!!\",\n",
       "  'recommendation': 'Not Recommended',\n",
       "  'helpful': 710},\n",
       " {'text': 'Posted: 10 February\\n♥♥♥♥♥♥ gameplay, ♥♥♥♥♥♥ servers, full of bugs and problems. Buying this garbage game is just a way to destroy your nerves.',\n",
       "  'recommendation': 'Not Recommended',\n",
       "  'helpful': 292},\n",
       " {'text': 'Posted: 7 January\\nYear after year EA finds ways to make the game worse, especially for the PC players. Would not recommend getting it even on sales, feel sorry for those who paid the full price.\\nMake this game free to play already, 0/10',\n",
       "  'recommendation': 'Not Recommended',\n",
       "  'helpful': 457},\n",
       " {'text': \"Posted: 13 December, 2024\\nI purchased this game 2 weeks ago and I still was not able to play a single smooth game because of the terrible otimization this game has and not only for me but multiple PC players, there is a whole EA forum dedicated to this error with over 300 pages and EA didn't give a damn about it and most likely wont fix. Its a completly incompetent company that doesn't care about their own playerbase, the minimum they could do is refund 70€ to all the users wich have been having this problem for over a whole month.\",\n",
       "  'recommendation': 'Not Recommended',\n",
       "  'helpful': 436},\n",
       " {'text': \"Posted: 27 September, 2024\\nEven iPhone 16 got a bigger upgrade than the FC 25 but here are some things you should know before buying:\\n\\n1, The game itself is not bad, better control, and no more feeling like you're skiing on grass.\\n2, Thousands of tiny, funny bugs, but it won't ruin your day.... mostly.\\n3, Surprisingly the Rush mode is pretty funny.\\n4, many new ideas for manager mode but the disgusting simplified UI is so bad to use (my opinion).\\n5, Prematch animation is back.\\n\\nUnless you play UT mode, DON'T BUY THIS GAME NOW! There are so many bugs! Wait for Black Friday or Christmas—your wallet will THANK YOU. It's not worth paying full price just to fill EA's bottomless pit of greed!\",\n",
       "  'recommendation': 'Not Recommended',\n",
       "  'helpful': 500},\n",
       " {'text': 'Posted: 2 May\\nI have never posted a review ever in my life. HOWEVER, the GARBAGE, BROKEN, and UNPLAYABLE nature of this game has prompted this review. I have played every FIFA/EA game since 2014 and have had seen some good games and mediocre ones. However, I thought that EAFC 24 was the worst in the entire series...UNTIL THIS GAME. At launch, clubs was unplayable. Every patch promised fixes, but with every update a million and one more bugs, crashes, and exploits appeared. Ultimate team is not any better, with constant crashes and unbalanced matchmaking. And now at the end of its life, the devs have become money hungry and have even added a paid version of the battle pass. At this point, it is literally unplayable with bots and AI directly disobeying commands and tactics. If you enjoy the series, do yourself a favor and wait for the next iteration. This is NOT WORTH IT.',\n",
       "  'recommendation': 'Not Recommended',\n",
       "  'helpful': 247},\n",
       " {'text': \"Posted: 31 October, 2024\\nAs an avid fan of the franchise, it pains me to write this review for FC 25, which has delivered an immensely disappointing and frustrating experience. The most glaring issue is the abysmal gameplay balance, which feels more like a step backward than an improvement. Matches are too often decided by glaring AI inconsistencies, making even basic mechanics feel random and unreliable. It’s genuinely astonishing how unrefined the game feels after years of supposed advancements.\\n\\nMoreover, it's hard to ignore the evident lack of regard from EA for the game's current state. Community feedback seems disregarded entirely, with players voicing frustrations about bugs, balancing issues, and broken mechanics that have yet to be addressed. While cosmetic updates and monetization strategies are regularly prioritized, essential gameplay fixes are blatantly neglected, leaving the core experience in a poor state.\\n\\nIn its current form, FC 25 feels less like a polished soccer simulation and more like a cash grab, relying on fans’ loyalty without showing any commitment to improving the player experience. For a company as established as EA, it’s disappointing to see the community treated with such disregard, and the product itself left in such a poor state.\",\n",
       "  'recommendation': 'Not Recommended',\n",
       "  'helpful': 243},\n",
       " {'text': 'Posted: 26 February\\nStarted as a football game, ended up running a digital casino where my team’s success depended on how deep my wallet was. My best tactic? Praying to EA’s loot box gods. “Pay-to-Winchester,” “Credit Card FC,” and “Microtransaction United” were my top clubs. 2/10 would rather play actual football in my backyard. 💸🎰⚽\\n\\nFollow my curator page for more wallet-draining disasters, RNG heartbreaks, and games where skill loses to spending! 💸🎮✨\\nhttps://store.steampowered.com/curator/42602807-Osiris-Reviews/',\n",
       "  'recommendation': 'Not Recommended',\n",
       "  'helpful': 680},\n",
       " {'text': 'Posted: 20 September, 2024\\nSame menu as ea fc 24 and same bugs as ea fc 24. Same freezes, same crashes. I love football but i only bought this cause of no competiton. One good football game and this company is gone. Pls make that happen. They dont deserve our money, they dont deserve a single minute of our time!',\n",
       "  'recommendation': 'Not Recommended',\n",
       "  'helpful': 352}]"
      ]
     },
     "metadata": {},
     "output_type": "display_data"
    }
   ],
   "source": [
    "# Replace with your game's review URL\n",
    "URL = \"https://steamcommunity.com/app/2669320/reviews/?browsefilter=toprated\"\n",
    "\n",
    "# URL += \"&filterLanguage=brazilian\" # To use pt-br filter\n",
    "\n",
    "reviews = []\n",
    "seen_reviews = set()\n",
    "# Variable to keep track of the last seen card, to avoid duplicates\n",
    "\n",
    "def get_review_data(scroll_count, last_seen_card):\n",
    "    review_cards = driver.find_elements(By.CLASS_NAME, \"apphub_Card\")\n",
    "    print(f\"Found {len(review_cards)} review cards on scroll {scroll_count + 1}\")\n",
    "\n",
    "    for card in review_cards[last_seen_card:]:\n",
    "        try:\n",
    "            # Get recommendation (Recommended or Not Recommended)\n",
    "            recommendation = card.find_element(By.CLASS_NAME, \"title\").text.strip()\n",
    "\n",
    "            review_text = card.find_element(By.CLASS_NAME, \"apphub_CardTextContent\").text.strip()\n",
    "\n",
    "            # Relevance\n",
    "            relevance = card.find_element(By.CLASS_NAME, \"found_helpful\").text.strip()\n",
    "            number_of_helpful = re.search(r\"(\\d[\\d,]*) people found this review helpful\", relevance)\n",
    "            extracted_number = 0\n",
    "            if number_of_helpful:\n",
    "                extracted_number = int(number_of_helpful.group(1).replace(\",\", \"\"))\n",
    "            \n",
    "\n",
    "            if review_text and review_text not in seen_reviews:\n",
    "                seen_reviews.add(review_text)\n",
    "                reviews.append({\"text\": review_text, \"recommendation\": recommendation, \"helpful\": extracted_number})\n",
    "        except Exception as e:\n",
    "            print(\"Error processing a review card:\", e)\n",
    "    \n",
    "    return len(review_cards)\n",
    "\n",
    "\n",
    "driver.get(URL)\n",
    "time.sleep(3)\n",
    "    \n",
    "SCROLL_PAUSE = 1\n",
    "# Number of times to scroll down the page, use inf to scroll until the end\n",
    "# N_SCROLLS = float(\"inf\")\n",
    "N_SCROLLS = 40\n",
    "last_height = driver.execute_script(\"return document.body.scrollHeight\")\n",
    "last_seen_card = 0\n",
    "\n",
    "\n",
    "print(\"Scrolling and collecting reviews...\")\n",
    "for i in range(N_SCROLLS):\n",
    "    # Scroll to the bottom of the page, only if not the first scroll\n",
    "    if i > 0:\n",
    "        driver.execute_script(\"window.scrollTo(0, document.body.scrollHeight);\")\n",
    "        time.sleep(SCROLL_PAUSE)\n",
    "        \n",
    "        new_height = driver.execute_script(\"return document.body.scrollHeight\")\n",
    "        if new_height == last_height:\n",
    "            print(\"No more new content loaded. Stopping scroll.\")\n",
    "            break\n",
    "        last_height = new_height\n",
    "    \n",
    "    last_seen_card = get_review_data(i, last_seen_card)\n",
    "\n",
    "print(f\"Collected {len(reviews)} reviews.\")   \n",
    "\n",
    "driver.quit()\n",
    "\n",
    "reviews[0:10]"
   ]
  },
  {
   "cell_type": "markdown",
   "id": "b4b0a718",
   "metadata": {},
   "source": [
    "## Cleaning\n",
    "\n",
    "### Removing the date from the review\n",
    "\n",
    "Pattern `\"Posted: <day> <month>[, <year>]\\n\"`\n",
    "\n",
    "### Remove aditional spaces\n",
    "\n",
    "Remove extra spaces - This makes it easier to read the resulting CSV, cuts characters that are not usefull from the output and needs to be done anyway for the data analysis."
   ]
  },
  {
   "cell_type": "code",
   "execution_count": null,
   "id": "99835f41",
   "metadata": {},
   "outputs": [
    {
     "data": {
      "text/plain": [
       "[{'text': \"TL:DR - This game is a psychologically manipulative Skinner box. It is designed to be addictive, and to get as much money out of you as possible. Scripting, implemented to encourage FUT players to spend more money, is in every mode and makes every game an unsatisfying and empty experience. Considering a core demographic for this game is children, the income-focused manipulation displayed here is repugnant. DDA (dynamic difficulty adjustment) or scipting is just ridiculous now. In games against EA's garbage AI, if the game wants your opponent to score, they'll respond to your controller inputs instantly, not the actions of the player you're controlling. Easy tackles with world class defenders will either miss, bounce the ball to another opponent, just outright phase through the ball or even the damn player! Your keeper will do a Matrix-esque dodge of a shot coming directly at them or will spill an easy catch directly into their striker. The most outrageous though, is player switching on loose balls and when contesting headers. The game will sometimes prevent you from switching to a player (even manually with the right stick) if they're close enough to win a loose ball or are in the best position to win a header. They will instead just stand there, staring blankly into the distance, until the opponent wins back possession. It's the most obvious example of the game cheating to achieve the outcome it wants. This stuff is so obvious that I've been able to predict when a goal is coming, just by how many advantages the AI gets. Other examples: - 30 year old fullback with 60 pace will gain an otherworldly burst of speed to get ahead of my winger with 90 pace - Players will frequently and deliberately place themselves in a position to lose headers, even if you're instructing them to do the opposite - Opposition defenders will basically teleport to tackle you the second you press shoot in the box - Your passes will frequently go to a player in the complete opposite direction to the one you've commanded - Uncontrolled defenders will randomly clatter someone in the box, giving away a penalty - Some of the AI's most outrageous Sunday league fouls just won't be given - If the game doesn't want you to score anymore (or has the scoreline it wants to achieve), the opposition will just pass the ball around the back or run all the way back to the keeper upon any pressure. This would be fine if they weren't 2-1 down at 70', where any team would be pushing hard for an equaliser. Again, just breaks the immersion. - If the game wants you to score, all of these advantages are removed and opposing players lose 50 IQ points. It's ridiculously transparent. These problems extend to all other game modes, especially Ultimate Team. At the end of the day, all this does is damage the experience. Wins don't feel earned, since it's obvious that the game is allowing you to win. When you lose it's often because of the above advantages, not from been legitimately outplayed. For a game that aims to recreate football, it fails spectacularly in presenting the core part of that experience; the in-match gameplay. Neglecting this, by adding a scripting or variable difficulty system to psychologically manipulate FUT players to spend more money, not only irrevocably destroys the experience in all modes, but is also outrageously anti-consumer. I knew on reputation that EA Sports games were microtransaction ridden hellholes but this is predatory to a degree I've never seen before. Considering a core demographic for this game is children, manipulation like this is repugnant. Honestly, I feel dirty having spent money on this. Do not buy this or any other EA Sports Skinner box, it's a prime example of everything wrong with this heinous company.\",\n",
       "  'recommendation': 'Not Recommended',\n",
       "  'helpful': 799},\n",
       " {'text': \"Worst Fifa ever, terrible passing, shooting, lag input, servers are so laggy. DON'T BUY THIS GAME!!!!!\",\n",
       "  'recommendation': 'Not Recommended',\n",
       "  'helpful': 710},\n",
       " {'text': 'gameplay, servers, full of bugs and problems. Buying this garbage game is just a way to destroy your nerves.',\n",
       "  'recommendation': 'Not Recommended',\n",
       "  'helpful': 292},\n",
       " {'text': 'Year after year EA finds ways to make the game worse, especially for the PC players. Would not recommend getting it even on sales, feel sorry for those who paid the full price. Make this game free to play already, 0/10',\n",
       "  'recommendation': 'Not Recommended',\n",
       "  'helpful': 457},\n",
       " {'text': \"I purchased this game 2 weeks ago and I still was not able to play a single smooth game because of the terrible otimization this game has and not only for me but multiple PC players, there is a whole EA forum dedicated to this error with over 300 pages and EA didn't give a damn about it and most likely wont fix. Its a completly incompetent company that doesn't care about their own playerbase, the minimum they could do is refund 70€ to all the users wich have been having this problem for over a whole month.\",\n",
       "  'recommendation': 'Not Recommended',\n",
       "  'helpful': 436},\n",
       " {'text': \"Even iPhone 16 got a bigger upgrade than the FC 25 but here are some things you should know before buying: 1, The game itself is not bad, better control, and no more feeling like you're skiing on grass. 2, Thousands of tiny, funny bugs, but it won't ruin your day.... mostly. 3, Surprisingly the Rush mode is pretty funny. 4, many new ideas for manager mode but the disgusting simplified UI is so bad to use (my opinion). 5, Prematch animation is back. Unless you play UT mode, DON'T BUY THIS GAME NOW! There are so many bugs! Wait for Black Friday or Christmas—your wallet will THANK YOU. It's not worth paying full price just to fill EA's bottomless pit of greed!\",\n",
       "  'recommendation': 'Not Recommended',\n",
       "  'helpful': 500},\n",
       " {'text': 'I have never posted a review ever in my life. HOWEVER, the GARBAGE, BROKEN, and UNPLAYABLE nature of this game has prompted this review. I have played every FIFA/EA game since 2014 and have had seen some good games and mediocre ones. However, I thought that EAFC 24 was the worst in the entire series...UNTIL THIS GAME. At launch, clubs was unplayable. Every patch promised fixes, but with every update a million and one more bugs, crashes, and exploits appeared. Ultimate team is not any better, with constant crashes and unbalanced matchmaking. And now at the end of its life, the devs have become money hungry and have even added a paid version of the battle pass. At this point, it is literally unplayable with bots and AI directly disobeying commands and tactics. If you enjoy the series, do yourself a favor and wait for the next iteration. This is NOT WORTH IT.',\n",
       "  'recommendation': 'Not Recommended',\n",
       "  'helpful': 247},\n",
       " {'text': \"As an avid fan of the franchise, it pains me to write this review for FC 25, which has delivered an immensely disappointing and frustrating experience. The most glaring issue is the abysmal gameplay balance, which feels more like a step backward than an improvement. Matches are too often decided by glaring AI inconsistencies, making even basic mechanics feel random and unreliable. It’s genuinely astonishing how unrefined the game feels after years of supposed advancements. Moreover, it's hard to ignore the evident lack of regard from EA for the game's current state. Community feedback seems disregarded entirely, with players voicing frustrations about bugs, balancing issues, and broken mechanics that have yet to be addressed. While cosmetic updates and monetization strategies are regularly prioritized, essential gameplay fixes are blatantly neglected, leaving the core experience in a poor state. In its current form, FC 25 feels less like a polished soccer simulation and more like a cash grab, relying on fans’ loyalty without showing any commitment to improving the player experience. For a company as established as EA, it’s disappointing to see the community treated with such disregard, and the product itself left in such a poor state.\",\n",
       "  'recommendation': 'Not Recommended',\n",
       "  'helpful': 243},\n",
       " {'text': 'Started as a football game, ended up running a digital casino where my team’s success depended on how deep my wallet was. My best tactic? Praying to EA’s loot box gods. “Pay-to-Winchester,” “Credit Card FC,” and “Microtransaction United” were my top clubs. 2/10 would rather play actual football in my backyard. 💸🎰⚽ Follow my curator page for more wallet-draining disasters, RNG heartbreaks, and games where skill loses to spending! 💸🎮✨ https://store.steampowered.com/curator/42602807-Osiris-Reviews/',\n",
       "  'recommendation': 'Not Recommended',\n",
       "  'helpful': 680},\n",
       " {'text': 'Same menu as ea fc 24 and same bugs as ea fc 24. Same freezes, same crashes. I love football but i only bought this cause of no competiton. One good football game and this company is gone. Pls make that happen. They dont deserve our money, they dont deserve a single minute of our time!',\n",
       "  'recommendation': 'Not Recommended',\n",
       "  'helpful': 352}]"
      ]
     },
     "metadata": {},
     "output_type": "display_data"
    }
   ],
   "source": [
    "def clean_text(text):\n",
    "    text = re.sub(r\"\\s*♥+\\s*\", \" \", text)  # Remove hearts that censor bad words on steam\n",
    "    text = re.sub(r'\\s+', ' ', text)  \n",
    "    return text.strip()\n",
    "\n",
    "def remove_posted_date(text):\n",
    "    lines = text.splitlines()\n",
    "    if lines and lines[0].startswith(\"Posted:\"):\n",
    "        return \"\\n\".join(lines[1:]).strip()\n",
    "    return text.strip()\n",
    "\n",
    "for review in reviews:\n",
    "    review[\"text\"] = remove_posted_date(review[\"text\"])\n",
    "    review[\"text\"] = clean_text(review[\"text\"])\n",
    "\n",
    "reviews[0:10]\n"
   ]
  },
  {
   "cell_type": "code",
   "execution_count": null,
   "id": "204b999c",
   "metadata": {},
   "outputs": [
    {
     "name": "stdout",
     "output_type": "stream",
     "text": [
      "Scraped 400 reviews.\n"
     ]
    }
   ],
   "source": [
    "\n",
    "with open(\"steam_reviews.csv\", \"w\", newline='', encoding=\"utf-8\") as f:\n",
    "    writer = csv.DictWriter(f, fieldnames=[\"Recommendation\", \"Review\", \"Helpful\"])\n",
    "    writer.writeheader()\n",
    "    for review in reviews:\n",
    "        writer.writerow({\n",
    "            \"Recommendation\": review[\"recommendation\"],\n",
    "            \"Review\": review[\"text\"],\n",
    "            \"Helpful\": review[\"helpful\"]\n",
    "        })\n",
    "\n",
    "\n",
    "print(f\"Scraped {len(reviews)} reviews.\")"
   ]
  },
  {
   "cell_type": "markdown",
   "id": "2ca25a87",
   "metadata": {},
   "source": [
    "## Data Analysis"
   ]
  },
  {
   "cell_type": "code",
   "execution_count": 1,
   "id": "9fe54ccf",
   "metadata": {},
   "outputs": [],
   "source": [
    "import pandas as pd\n",
    "from sklearn.feature_extraction.text import CountVectorizer, TfidfVectorizer\n",
    "from sklearn.pipeline import Pipeline\n",
    "from sklearn.linear_model import LogisticRegression\n",
    "from sklearn.model_selection import train_test_split\n",
    "from sklearn.metrics import accuracy_score\n",
    "import nltk\n",
    "from nltk.corpus import stopwords\n",
    "from unidecode import unidecode\n",
    "import re"
   ]
  },
  {
   "cell_type": "code",
   "execution_count": 2,
   "id": "f4f05acb",
   "metadata": {},
   "outputs": [
    {
     "name": "stderr",
     "output_type": "stream",
     "text": [
      "[nltk_data] Downloading package stopwords to\n",
      "[nltk_data]     /home/ricardorr/nltk_data...\n",
      "[nltk_data]   Package stopwords is already up-to-date!\n"
     ]
    }
   ],
   "source": [
    "nltk.download('stopwords')\n",
    "ENGLISH_STOP_WORDS = list(stopwords.words('english'))"
   ]
  },
  {
   "cell_type": "code",
   "execution_count": 3,
   "id": "d73babf1",
   "metadata": {},
   "outputs": [
    {
     "data": {
      "text/html": [
       "<div>\n",
       "<style scoped>\n",
       "    .dataframe tbody tr th:only-of-type {\n",
       "        vertical-align: middle;\n",
       "    }\n",
       "\n",
       "    .dataframe tbody tr th {\n",
       "        vertical-align: top;\n",
       "    }\n",
       "\n",
       "    .dataframe thead th {\n",
       "        text-align: right;\n",
       "    }\n",
       "</style>\n",
       "<table border=\"1\" class=\"dataframe\">\n",
       "  <thead>\n",
       "    <tr style=\"text-align: right;\">\n",
       "      <th></th>\n",
       "      <th>Recommendation</th>\n",
       "      <th>Review</th>\n",
       "      <th>Helpful</th>\n",
       "    </tr>\n",
       "  </thead>\n",
       "  <tbody>\n",
       "    <tr>\n",
       "      <th>0</th>\n",
       "      <td>Not Recommended</td>\n",
       "      <td>TL:DR - This game is a psychologically manipul...</td>\n",
       "      <td>799</td>\n",
       "    </tr>\n",
       "    <tr>\n",
       "      <th>1</th>\n",
       "      <td>Not Recommended</td>\n",
       "      <td>Worst Fifa ever, terrible passing, shooting, l...</td>\n",
       "      <td>710</td>\n",
       "    </tr>\n",
       "    <tr>\n",
       "      <th>2</th>\n",
       "      <td>Not Recommended</td>\n",
       "      <td>gameplay, servers, full of bugs and problems. ...</td>\n",
       "      <td>292</td>\n",
       "    </tr>\n",
       "    <tr>\n",
       "      <th>3</th>\n",
       "      <td>Not Recommended</td>\n",
       "      <td>Year after year EA finds ways to make the game...</td>\n",
       "      <td>457</td>\n",
       "    </tr>\n",
       "    <tr>\n",
       "      <th>4</th>\n",
       "      <td>Not Recommended</td>\n",
       "      <td>I purchased this game 2 weeks ago and I still ...</td>\n",
       "      <td>436</td>\n",
       "    </tr>\n",
       "  </tbody>\n",
       "</table>\n",
       "</div>"
      ],
      "text/plain": [
       "    Recommendation                                             Review  Helpful\n",
       "0  Not Recommended  TL:DR - This game is a psychologically manipul...      799\n",
       "1  Not Recommended  Worst Fifa ever, terrible passing, shooting, l...      710\n",
       "2  Not Recommended  gameplay, servers, full of bugs and problems. ...      292\n",
       "3  Not Recommended  Year after year EA finds ways to make the game...      457\n",
       "4  Not Recommended  I purchased this game 2 weeks ago and I still ...      436"
      ]
     },
     "execution_count": 3,
     "metadata": {},
     "output_type": "execute_result"
    }
   ],
   "source": [
    "extracted = pd.read_csv(\"steam_reviews.csv\")\n",
    "extracted.head(5)"
   ]
  },
  {
   "cell_type": "code",
   "execution_count": 4,
   "id": "be29d1f1",
   "metadata": {},
   "outputs": [],
   "source": [
    "def is_valid_word(word):\n",
    "    # remove repeated letters, short words\n",
    "    if len(word) <= 3:\n",
    "        return False\n",
    "    if re.search(r'(.)\\1{2,}', word):\n",
    "        return False\n",
    "    if not re.match(r'^[a-zA-Z]+$', word):  # only letters\n",
    "        return False\n",
    "    return True\n",
    "\n",
    "def clean_text(text):\n",
    "    words = text.lower().split()\n",
    "    return ' '.join([word for word in words if is_valid_word(word)])"
   ]
  },
  {
   "cell_type": "code",
   "execution_count": 5,
   "id": "abc50413",
   "metadata": {},
   "outputs": [
    {
     "data": {
      "text/html": [
       "<div>\n",
       "<style scoped>\n",
       "    .dataframe tbody tr th:only-of-type {\n",
       "        vertical-align: middle;\n",
       "    }\n",
       "\n",
       "    .dataframe tbody tr th {\n",
       "        vertical-align: top;\n",
       "    }\n",
       "\n",
       "    .dataframe thead th {\n",
       "        text-align: right;\n",
       "    }\n",
       "</style>\n",
       "<table border=\"1\" class=\"dataframe\">\n",
       "  <thead>\n",
       "    <tr style=\"text-align: right;\">\n",
       "      <th></th>\n",
       "      <th>Recommendation</th>\n",
       "      <th>Review</th>\n",
       "      <th>Helpful</th>\n",
       "      <th>CleanedReview</th>\n",
       "    </tr>\n",
       "  </thead>\n",
       "  <tbody>\n",
       "    <tr>\n",
       "      <th>0</th>\n",
       "      <td>Not Recommended</td>\n",
       "      <td>TL:DR - This game is a psychologically manipul...</td>\n",
       "      <td>799</td>\n",
       "      <td>tldr this game psychologically manipulative sk...</td>\n",
       "    </tr>\n",
       "    <tr>\n",
       "      <th>1</th>\n",
       "      <td>Not Recommended</td>\n",
       "      <td>Worst Fifa ever, terrible passing, shooting, l...</td>\n",
       "      <td>710</td>\n",
       "      <td>worst fifa ever terrible passing shooting inpu...</td>\n",
       "    </tr>\n",
       "    <tr>\n",
       "      <th>2</th>\n",
       "      <td>Not Recommended</td>\n",
       "      <td>gameplay, servers, full of bugs and problems. ...</td>\n",
       "      <td>292</td>\n",
       "      <td>gameplay servers full bugs problems buying thi...</td>\n",
       "    </tr>\n",
       "    <tr>\n",
       "      <th>3</th>\n",
       "      <td>Not Recommended</td>\n",
       "      <td>Year after year EA finds ways to make the game...</td>\n",
       "      <td>457</td>\n",
       "      <td>year after year finds ways make game worse esp...</td>\n",
       "    </tr>\n",
       "    <tr>\n",
       "      <th>4</th>\n",
       "      <td>Not Recommended</td>\n",
       "      <td>I purchased this game 2 weeks ago and I still ...</td>\n",
       "      <td>436</td>\n",
       "      <td>purchased this game weeks still able play sing...</td>\n",
       "    </tr>\n",
       "  </tbody>\n",
       "</table>\n",
       "</div>"
      ],
      "text/plain": [
       "    Recommendation                                             Review  \\\n",
       "0  Not Recommended  TL:DR - This game is a psychologically manipul...   \n",
       "1  Not Recommended  Worst Fifa ever, terrible passing, shooting, l...   \n",
       "2  Not Recommended  gameplay, servers, full of bugs and problems. ...   \n",
       "3  Not Recommended  Year after year EA finds ways to make the game...   \n",
       "4  Not Recommended  I purchased this game 2 weeks ago and I still ...   \n",
       "\n",
       "   Helpful                                      CleanedReview  \n",
       "0      799  tldr this game psychologically manipulative sk...  \n",
       "1      710  worst fifa ever terrible passing shooting inpu...  \n",
       "2      292  gameplay servers full bugs problems buying thi...  \n",
       "3      457  year after year finds ways make game worse esp...  \n",
       "4      436  purchased this game weeks still able play sing...  "
      ]
     },
     "execution_count": 5,
     "metadata": {},
     "output_type": "execute_result"
    }
   ],
   "source": [
    "# First cleaning step: translate non-ASCII characters to ASCII\n",
    "extracted['CleanedReview'] = extracted['Review'].apply(unidecode)\n",
    "# Remove numbers and punctuation\n",
    "extracted['CleanedReview'] = extracted['CleanedReview'].str.replace(r'[^a-zA-Z\\s]', '', regex=True)\n",
    "extracted['CleanedReview'] = extracted['CleanedReview'].apply(clean_text)\n",
    "\n",
    "extracted.head(5)"
   ]
  },
  {
   "cell_type": "code",
   "execution_count": 6,
   "id": "463fd83f",
   "metadata": {},
   "outputs": [
    {
     "data": {
      "text/plain": [
       "(83, 317)"
      ]
     },
     "execution_count": 6,
     "metadata": {},
     "output_type": "execute_result"
    }
   ],
   "source": [
    "satisfied = extracted[extracted[\"Recommendation\"] == 'Recommended']\n",
    "not_satisfied = extracted[extracted['Recommendation'] == 'Not Recommended']\n",
    "len(satisfied), len(not_satisfied)"
   ]
  },
  {
   "cell_type": "markdown",
   "id": "34f227f6",
   "metadata": {},
   "source": [
    "## Model used - Count vectorizer + logistic regression\n",
    "\n",
    "Predicts how much each word (or ngram) relates to being the target variable, assigning weights to each of the tokens, those weights can than be used to measure how negative (or positive) a word is."
   ]
  },
  {
   "cell_type": "code",
   "execution_count": null,
   "id": "6a4ceaf6",
   "metadata": {},
   "outputs": [
    {
     "data": {
      "text/plain": [
       "'Training accuracy: 0.8333333333333334 - 340 samples, 60 test samples'"
      ]
     },
     "execution_count": 12,
     "metadata": {},
     "output_type": "execute_result"
    }
   ],
   "source": [
    "X = extracted[\"CleanedReview\"].to_numpy()\n",
    "Y = extracted[\"Recommendation\"].to_numpy()\n",
    "X_train, X_test, y_train, y_test = train_test_split(X, Y, test_size=0.15)\n",
    "\n",
    "classifier = Pipeline(\n",
    "    [\n",
    "        ('vectorizer', CountVectorizer(stop_words=ENGLISH_STOP_WORDS, binary=True, ngram_range=(1, 2))),\n",
    "        # ('vectorizer', TfidfVectorizer(stop_words=ENGLISH_STOP_WORDS, binary=True, ngram_range=(1, 2))),\n",
    "        ('log_regressor', LogisticRegression(penalty='l2', solver='saga', max_iter=10_000))\n",
    "    ]\n",
    ")\n",
    "\n",
    "classifier.fit(X_train, y_train)\n",
    "y_pred = classifier.predict(X_test)\n",
    "acc = accuracy_score(y_pred, y_test)\n",
    "f\"Training accuracy: {acc} - {len(X_train)} samples, {len(X_test)} test samples\""
   ]
  },
  {
   "cell_type": "code",
   "execution_count": 94,
   "id": "1c68d1a4",
   "metadata": {},
   "outputs": [
    {
     "data": {
      "text/plain": [
       "array(['Not Recommended', 'Recommended'], dtype=object)"
      ]
     },
     "execution_count": 94,
     "metadata": {},
     "output_type": "execute_result"
    }
   ],
   "source": [
    "classifier.classes_\n",
    "# 0 = Not Recommended; 1 = Recommended"
   ]
  },
  {
   "cell_type": "code",
   "execution_count": 102,
   "id": "d85fdd00",
   "metadata": {},
   "outputs": [],
   "source": [
    "def get_word_weights_for_class(classifier):\n",
    "    \"\"\"\n",
    "    Get the word weights for a specific class in the classifier.\n",
    "    :param classifier: The trained classifier pipeline.\n",
    "    :param target_class: The target\n",
    "    \"\"\"\n",
    "    vocabulary = classifier[\"vectorizer\"].vocabulary_\n",
    "    weights = classifier[\"log_regressor\"].coef_\n",
    "    print(weights.shape)\n",
    "\n",
    "    word_weights = []\n",
    "    for word in vocabulary.keys():\n",
    "        # if number or too short, ignore\n",
    "        if word.isnumeric() or len(word) < 3:\n",
    "            continue\n",
    "        j = vocabulary[word]\n",
    "        word_weight_in_class = weights[0, j]\n",
    "        word_weights.append((word_weight_in_class, word))\n",
    "    \n",
    "    return word_weights\n"
   ]
  },
  {
   "cell_type": "code",
   "execution_count": 103,
   "id": "45e4c4f8",
   "metadata": {},
   "outputs": [
    {
     "name": "stdout",
     "output_type": "stream",
     "text": [
      "(1, 11048)\n"
     ]
    },
    {
     "data": {
      "application/vnd.plotly.v1+json": {
       "config": {
        "plotlyServerURL": "https://plot.ly"
       },
       "data": [
        {
         "marker": {
          "color": "crimson"
         },
         "name": "More correlated to the class",
         "orientation": "h",
         "type": "bar",
         "x": [
          -1.3214379190054018,
          -1.0223668242146777,
          -0.6962807985445719,
          -0.6673369132267831,
          -0.6494570073874437,
          -0.5861636852200268,
          -0.5734607580321682,
          -0.5363777263974744,
          -0.5288466766538884,
          -0.5232069071946484,
          -0.4968004012949853,
          -0.47790105449929254,
          -0.46928094877080356,
          -0.44371558454372934,
          -0.4417316648840697,
          -0.43147667447619203,
          -0.42379413277060207,
          -0.4198811823239046,
          -0.41835301596422764,
          -0.41221513336647925,
          -0.4008461536639645,
          -0.39878959419619725,
          -0.3944628620125374,
          -0.39445508807711216,
          -0.394079432733101,
          -0.3818308411982407,
          -0.3756142408350228,
          -0.3646090690942994,
          -0.3600130849735265,
          -0.35398009705183847
         ],
         "xaxis": "x",
         "y": [
          "game",
          "dont",
          "every",
          "product",
          "worst",
          "refunded",
          "product refunded",
          "ever",
          "script",
          "even",
          "usual",
          "crashes",
          "terrible",
          "bugs",
          "cant",
          "pure",
          "horrible",
          "bought",
          "work",
          "year",
          "make",
          "doesnt",
          "worse",
          "sucks",
          "money",
          "hackers",
          "life",
          "hate",
          "slow",
          "points"
         ],
         "yaxis": "y"
        },
        {
         "marker": {
          "color": "seagreen"
         },
         "name": "Less correlated to the class",
         "orientation": "h",
         "type": "bar",
         "x": [
          0.2986321397776875,
          0.30012531714943963,
          0.31556136640039023,
          0.3157488025346187,
          0.3186221236392755,
          0.32182855102266433,
          0.3226500241618474,
          0.3233921934494252,
          0.32353894467101457,
          0.3256554197694722,
          0.32845021603114505,
          0.33529466607863173,
          0.33821665969778497,
          0.36316167454922366,
          0.37490557280323933,
          0.37732664264131854,
          0.3930799528409032,
          0.4053339221036546,
          0.40808835114151093,
          0.41180790908997433,
          0.4352048529656112,
          0.44180028628870405,
          0.45339459006880534,
          0.45484074247403894,
          0.4577934879399137,
          0.4627467487551573,
          0.49203064649257483,
          0.5928311448845998,
          0.7886718185988015,
          1.0188644299824852
         ],
         "xaxis": "x2",
         "y": [
          "miles",
          "miles better",
          "love football",
          "works",
          "enjoy",
          "gambling",
          "like",
          "game right",
          "game good",
          "goal",
          "thank",
          "toxic",
          "best",
          "real",
          "rate",
          "performance",
          "offline",
          "love",
          "recommend",
          "mean",
          "cant goal",
          "play",
          "version",
          "already dont",
          "career",
          "must",
          "much",
          "better",
          "already",
          "good"
         ],
         "yaxis": "y2"
        }
       ],
       "layout": {
        "annotations": [
         {
          "font": {
           "size": 16
          },
          "showarrow": false,
          "text": "Words more related to 'Not Recommended'",
          "x": 0.225,
          "xanchor": "center",
          "xref": "paper",
          "y": 1,
          "yanchor": "bottom",
          "yref": "paper"
         },
         {
          "font": {
           "size": 16
          },
          "showarrow": false,
          "text": "Words less related to 'Not Recommended'",
          "x": 0.775,
          "xanchor": "center",
          "xref": "paper",
          "y": 1,
          "yanchor": "bottom",
          "yref": "paper"
         }
        ],
        "height": 600,
        "showlegend": false,
        "template": {
         "data": {
          "bar": [
           {
            "error_x": {
             "color": "#2a3f5f"
            },
            "error_y": {
             "color": "#2a3f5f"
            },
            "marker": {
             "line": {
              "color": "white",
              "width": 0.5
             },
             "pattern": {
              "fillmode": "overlay",
              "size": 10,
              "solidity": 0.2
             }
            },
            "type": "bar"
           }
          ],
          "barpolar": [
           {
            "marker": {
             "line": {
              "color": "white",
              "width": 0.5
             },
             "pattern": {
              "fillmode": "overlay",
              "size": 10,
              "solidity": 0.2
             }
            },
            "type": "barpolar"
           }
          ],
          "carpet": [
           {
            "aaxis": {
             "endlinecolor": "#2a3f5f",
             "gridcolor": "#C8D4E3",
             "linecolor": "#C8D4E3",
             "minorgridcolor": "#C8D4E3",
             "startlinecolor": "#2a3f5f"
            },
            "baxis": {
             "endlinecolor": "#2a3f5f",
             "gridcolor": "#C8D4E3",
             "linecolor": "#C8D4E3",
             "minorgridcolor": "#C8D4E3",
             "startlinecolor": "#2a3f5f"
            },
            "type": "carpet"
           }
          ],
          "choropleth": [
           {
            "colorbar": {
             "outlinewidth": 0,
             "ticks": ""
            },
            "type": "choropleth"
           }
          ],
          "contour": [
           {
            "colorbar": {
             "outlinewidth": 0,
             "ticks": ""
            },
            "colorscale": [
             [
              0,
              "#0d0887"
             ],
             [
              0.1111111111111111,
              "#46039f"
             ],
             [
              0.2222222222222222,
              "#7201a8"
             ],
             [
              0.3333333333333333,
              "#9c179e"
             ],
             [
              0.4444444444444444,
              "#bd3786"
             ],
             [
              0.5555555555555556,
              "#d8576b"
             ],
             [
              0.6666666666666666,
              "#ed7953"
             ],
             [
              0.7777777777777778,
              "#fb9f3a"
             ],
             [
              0.8888888888888888,
              "#fdca26"
             ],
             [
              1,
              "#f0f921"
             ]
            ],
            "type": "contour"
           }
          ],
          "contourcarpet": [
           {
            "colorbar": {
             "outlinewidth": 0,
             "ticks": ""
            },
            "type": "contourcarpet"
           }
          ],
          "heatmap": [
           {
            "colorbar": {
             "outlinewidth": 0,
             "ticks": ""
            },
            "colorscale": [
             [
              0,
              "#0d0887"
             ],
             [
              0.1111111111111111,
              "#46039f"
             ],
             [
              0.2222222222222222,
              "#7201a8"
             ],
             [
              0.3333333333333333,
              "#9c179e"
             ],
             [
              0.4444444444444444,
              "#bd3786"
             ],
             [
              0.5555555555555556,
              "#d8576b"
             ],
             [
              0.6666666666666666,
              "#ed7953"
             ],
             [
              0.7777777777777778,
              "#fb9f3a"
             ],
             [
              0.8888888888888888,
              "#fdca26"
             ],
             [
              1,
              "#f0f921"
             ]
            ],
            "type": "heatmap"
           }
          ],
          "histogram": [
           {
            "marker": {
             "pattern": {
              "fillmode": "overlay",
              "size": 10,
              "solidity": 0.2
             }
            },
            "type": "histogram"
           }
          ],
          "histogram2d": [
           {
            "colorbar": {
             "outlinewidth": 0,
             "ticks": ""
            },
            "colorscale": [
             [
              0,
              "#0d0887"
             ],
             [
              0.1111111111111111,
              "#46039f"
             ],
             [
              0.2222222222222222,
              "#7201a8"
             ],
             [
              0.3333333333333333,
              "#9c179e"
             ],
             [
              0.4444444444444444,
              "#bd3786"
             ],
             [
              0.5555555555555556,
              "#d8576b"
             ],
             [
              0.6666666666666666,
              "#ed7953"
             ],
             [
              0.7777777777777778,
              "#fb9f3a"
             ],
             [
              0.8888888888888888,
              "#fdca26"
             ],
             [
              1,
              "#f0f921"
             ]
            ],
            "type": "histogram2d"
           }
          ],
          "histogram2dcontour": [
           {
            "colorbar": {
             "outlinewidth": 0,
             "ticks": ""
            },
            "colorscale": [
             [
              0,
              "#0d0887"
             ],
             [
              0.1111111111111111,
              "#46039f"
             ],
             [
              0.2222222222222222,
              "#7201a8"
             ],
             [
              0.3333333333333333,
              "#9c179e"
             ],
             [
              0.4444444444444444,
              "#bd3786"
             ],
             [
              0.5555555555555556,
              "#d8576b"
             ],
             [
              0.6666666666666666,
              "#ed7953"
             ],
             [
              0.7777777777777778,
              "#fb9f3a"
             ],
             [
              0.8888888888888888,
              "#fdca26"
             ],
             [
              1,
              "#f0f921"
             ]
            ],
            "type": "histogram2dcontour"
           }
          ],
          "mesh3d": [
           {
            "colorbar": {
             "outlinewidth": 0,
             "ticks": ""
            },
            "type": "mesh3d"
           }
          ],
          "parcoords": [
           {
            "line": {
             "colorbar": {
              "outlinewidth": 0,
              "ticks": ""
             }
            },
            "type": "parcoords"
           }
          ],
          "pie": [
           {
            "automargin": true,
            "type": "pie"
           }
          ],
          "scatter": [
           {
            "fillpattern": {
             "fillmode": "overlay",
             "size": 10,
             "solidity": 0.2
            },
            "type": "scatter"
           }
          ],
          "scatter3d": [
           {
            "line": {
             "colorbar": {
              "outlinewidth": 0,
              "ticks": ""
             }
            },
            "marker": {
             "colorbar": {
              "outlinewidth": 0,
              "ticks": ""
             }
            },
            "type": "scatter3d"
           }
          ],
          "scattercarpet": [
           {
            "marker": {
             "colorbar": {
              "outlinewidth": 0,
              "ticks": ""
             }
            },
            "type": "scattercarpet"
           }
          ],
          "scattergeo": [
           {
            "marker": {
             "colorbar": {
              "outlinewidth": 0,
              "ticks": ""
             }
            },
            "type": "scattergeo"
           }
          ],
          "scattergl": [
           {
            "marker": {
             "colorbar": {
              "outlinewidth": 0,
              "ticks": ""
             }
            },
            "type": "scattergl"
           }
          ],
          "scattermap": [
           {
            "marker": {
             "colorbar": {
              "outlinewidth": 0,
              "ticks": ""
             }
            },
            "type": "scattermap"
           }
          ],
          "scattermapbox": [
           {
            "marker": {
             "colorbar": {
              "outlinewidth": 0,
              "ticks": ""
             }
            },
            "type": "scattermapbox"
           }
          ],
          "scatterpolar": [
           {
            "marker": {
             "colorbar": {
              "outlinewidth": 0,
              "ticks": ""
             }
            },
            "type": "scatterpolar"
           }
          ],
          "scatterpolargl": [
           {
            "marker": {
             "colorbar": {
              "outlinewidth": 0,
              "ticks": ""
             }
            },
            "type": "scatterpolargl"
           }
          ],
          "scatterternary": [
           {
            "marker": {
             "colorbar": {
              "outlinewidth": 0,
              "ticks": ""
             }
            },
            "type": "scatterternary"
           }
          ],
          "surface": [
           {
            "colorbar": {
             "outlinewidth": 0,
             "ticks": ""
            },
            "colorscale": [
             [
              0,
              "#0d0887"
             ],
             [
              0.1111111111111111,
              "#46039f"
             ],
             [
              0.2222222222222222,
              "#7201a8"
             ],
             [
              0.3333333333333333,
              "#9c179e"
             ],
             [
              0.4444444444444444,
              "#bd3786"
             ],
             [
              0.5555555555555556,
              "#d8576b"
             ],
             [
              0.6666666666666666,
              "#ed7953"
             ],
             [
              0.7777777777777778,
              "#fb9f3a"
             ],
             [
              0.8888888888888888,
              "#fdca26"
             ],
             [
              1,
              "#f0f921"
             ]
            ],
            "type": "surface"
           }
          ],
          "table": [
           {
            "cells": {
             "fill": {
              "color": "#EBF0F8"
             },
             "line": {
              "color": "white"
             }
            },
            "header": {
             "fill": {
              "color": "#C8D4E3"
             },
             "line": {
              "color": "white"
             }
            },
            "type": "table"
           }
          ]
         },
         "layout": {
          "annotationdefaults": {
           "arrowcolor": "#2a3f5f",
           "arrowhead": 0,
           "arrowwidth": 1
          },
          "autotypenumbers": "strict",
          "coloraxis": {
           "colorbar": {
            "outlinewidth": 0,
            "ticks": ""
           }
          },
          "colorscale": {
           "diverging": [
            [
             0,
             "#8e0152"
            ],
            [
             0.1,
             "#c51b7d"
            ],
            [
             0.2,
             "#de77ae"
            ],
            [
             0.3,
             "#f1b6da"
            ],
            [
             0.4,
             "#fde0ef"
            ],
            [
             0.5,
             "#f7f7f7"
            ],
            [
             0.6,
             "#e6f5d0"
            ],
            [
             0.7,
             "#b8e186"
            ],
            [
             0.8,
             "#7fbc41"
            ],
            [
             0.9,
             "#4d9221"
            ],
            [
             1,
             "#276419"
            ]
           ],
           "sequential": [
            [
             0,
             "#0d0887"
            ],
            [
             0.1111111111111111,
             "#46039f"
            ],
            [
             0.2222222222222222,
             "#7201a8"
            ],
            [
             0.3333333333333333,
             "#9c179e"
            ],
            [
             0.4444444444444444,
             "#bd3786"
            ],
            [
             0.5555555555555556,
             "#d8576b"
            ],
            [
             0.6666666666666666,
             "#ed7953"
            ],
            [
             0.7777777777777778,
             "#fb9f3a"
            ],
            [
             0.8888888888888888,
             "#fdca26"
            ],
            [
             1,
             "#f0f921"
            ]
           ],
           "sequentialminus": [
            [
             0,
             "#0d0887"
            ],
            [
             0.1111111111111111,
             "#46039f"
            ],
            [
             0.2222222222222222,
             "#7201a8"
            ],
            [
             0.3333333333333333,
             "#9c179e"
            ],
            [
             0.4444444444444444,
             "#bd3786"
            ],
            [
             0.5555555555555556,
             "#d8576b"
            ],
            [
             0.6666666666666666,
             "#ed7953"
            ],
            [
             0.7777777777777778,
             "#fb9f3a"
            ],
            [
             0.8888888888888888,
             "#fdca26"
            ],
            [
             1,
             "#f0f921"
            ]
           ]
          },
          "colorway": [
           "#636efa",
           "#EF553B",
           "#00cc96",
           "#ab63fa",
           "#FFA15A",
           "#19d3f3",
           "#FF6692",
           "#B6E880",
           "#FF97FF",
           "#FECB52"
          ],
          "font": {
           "color": "#2a3f5f"
          },
          "geo": {
           "bgcolor": "white",
           "lakecolor": "white",
           "landcolor": "white",
           "showlakes": true,
           "showland": true,
           "subunitcolor": "#C8D4E3"
          },
          "hoverlabel": {
           "align": "left"
          },
          "hovermode": "closest",
          "mapbox": {
           "style": "light"
          },
          "paper_bgcolor": "white",
          "plot_bgcolor": "white",
          "polar": {
           "angularaxis": {
            "gridcolor": "#EBF0F8",
            "linecolor": "#EBF0F8",
            "ticks": ""
           },
           "bgcolor": "white",
           "radialaxis": {
            "gridcolor": "#EBF0F8",
            "linecolor": "#EBF0F8",
            "ticks": ""
           }
          },
          "scene": {
           "xaxis": {
            "backgroundcolor": "white",
            "gridcolor": "#DFE8F3",
            "gridwidth": 2,
            "linecolor": "#EBF0F8",
            "showbackground": true,
            "ticks": "",
            "zerolinecolor": "#EBF0F8"
           },
           "yaxis": {
            "backgroundcolor": "white",
            "gridcolor": "#DFE8F3",
            "gridwidth": 2,
            "linecolor": "#EBF0F8",
            "showbackground": true,
            "ticks": "",
            "zerolinecolor": "#EBF0F8"
           },
           "zaxis": {
            "backgroundcolor": "white",
            "gridcolor": "#DFE8F3",
            "gridwidth": 2,
            "linecolor": "#EBF0F8",
            "showbackground": true,
            "ticks": "",
            "zerolinecolor": "#EBF0F8"
           }
          },
          "shapedefaults": {
           "line": {
            "color": "#2a3f5f"
           }
          },
          "ternary": {
           "aaxis": {
            "gridcolor": "#DFE8F3",
            "linecolor": "#A2B1C6",
            "ticks": ""
           },
           "baxis": {
            "gridcolor": "#DFE8F3",
            "linecolor": "#A2B1C6",
            "ticks": ""
           },
           "bgcolor": "white",
           "caxis": {
            "gridcolor": "#DFE8F3",
            "linecolor": "#A2B1C6",
            "ticks": ""
           }
          },
          "title": {
           "x": 0.05
          },
          "xaxis": {
           "automargin": true,
           "gridcolor": "#EBF0F8",
           "linecolor": "#EBF0F8",
           "ticks": "",
           "title": {
            "standoff": 15
           },
           "zerolinecolor": "#EBF0F8",
           "zerolinewidth": 2
          },
          "yaxis": {
           "automargin": true,
           "gridcolor": "#EBF0F8",
           "linecolor": "#EBF0F8",
           "ticks": "",
           "title": {
            "standoff": 15
           },
           "zerolinecolor": "#EBF0F8",
           "zerolinewidth": 2
          }
         }
        },
        "title": {
         "text": "Correlation of words to the class 'Not Recommended'"
        },
        "width": 1000,
        "xaxis": {
         "anchor": "y",
         "domain": [
          0,
          0.45
         ]
        },
        "xaxis2": {
         "anchor": "y2",
         "domain": [
          0.55,
          1
         ]
        },
        "yaxis": {
         "anchor": "x",
         "autorange": "reversed",
         "domain": [
          0,
          1
         ]
        },
        "yaxis2": {
         "anchor": "x2",
         "domain": [
          0,
          1
         ]
        }
       }
      }
     },
     "metadata": {},
     "output_type": "display_data"
    }
   ],
   "source": [
    "import plotly.graph_objects as go\n",
    "from plotly.subplots import make_subplots\n",
    "\n",
    "# In this case (binary regressor) -> the coefficients that lead to dissatisfaction the most are the ones with the most negative value.\n",
    "# And the ones that move away from dissatisfaction the most are the ones with the most positive value.\n",
    "word_weights = get_word_weights_for_class(classifier)\n",
    "target_str = classifier.classes_[0]\n",
    "\n",
    "sorted_word_weights = sorted(word_weights, reverse=False, key=lambda x: x[0])\n",
    "word_weights_sorted = [t[0] for t in sorted_word_weights]\n",
    "words_sorted = [t[1] for t in sorted_word_weights]\n",
    "\n",
    "# Separate top N negative and top N positive words\n",
    "N_WORDS_TO_VISUALIZE = 30\n",
    "negative_weights = word_weights_sorted[:N_WORDS_TO_VISUALIZE]\n",
    "negative_words = words_sorted[:N_WORDS_TO_VISUALIZE]\n",
    "\n",
    "positive_weights = word_weights_sorted[-N_WORDS_TO_VISUALIZE:]\n",
    "positive_words = words_sorted[-N_WORDS_TO_VISUALIZE:]\n",
    "\n",
    "# Create subplot\n",
    "fig = make_subplots(rows=1, cols=2, subplot_titles=[\n",
    "    f\"Words more related to '{target_str}'\",\n",
    "    f\"Words less related to '{target_str}'\"\n",
    "])\n",
    "\n",
    "# Negative bar chart\n",
    "fig.add_trace(go.Bar(\n",
    "    x=negative_weights,\n",
    "    y=negative_words,\n",
    "    orientation='h',\n",
    "    marker=dict(color='crimson'),\n",
    "    name='More correlated to the class'\n",
    "), row=1, col=1)\n",
    "\n",
    "# Positive bar chart\n",
    "fig.add_trace(go.Bar(\n",
    "    x=positive_weights,\n",
    "    y=positive_words,\n",
    "    orientation='h',\n",
    "    marker=dict(color='seagreen'),\n",
    "    name='Less correlated to the class'\n",
    "), row=1, col=2)\n",
    "\n",
    "# Update layout\n",
    "fig.update_layout(\n",
    "    height=600,\n",
    "    width=1000,\n",
    "    title_text=f\"Correlation of words to the class '{target_str}'\",\n",
    "    showlegend=False,\n",
    "    template=\"plotly_white\"\n",
    ")\n",
    "\n",
    "# Improve axis labels\n",
    "fig.update_yaxes(autorange=\"reversed\", row=1, col=1)\n",
    "fig.update_yaxes(row=1, col=2)\n",
    "\n",
    "fig.show()\n"
   ]
  },
  {
   "cell_type": "markdown",
   "id": "f9b4752d",
   "metadata": {},
   "source": [
    "## LDA"
   ]
  },
  {
   "cell_type": "code",
   "execution_count": null,
   "id": "6a3b1067",
   "metadata": {},
   "outputs": [],
   "source": [
    "import gensim\n",
    "from gensim import corpora\n",
    "from gensim import models\n",
    "from gensim.models import Nmf\n",
    "from gensim.parsing.preprocessing import remove_stopwords, preprocess_string\n",
    "from nltk.tokenize import word_tokenize\n",
    "import plotly.express as px\n",
    "from plotly.subplots import make_subplots\n",
    "import plotly.graph_objects as go\n"
   ]
  },
  {
   "cell_type": "code",
   "execution_count": 12,
   "id": "25141c68",
   "metadata": {},
   "outputs": [
    {
     "name": "stdout",
     "output_type": "stream",
     "text": [
      "(0, '0.020*\"year\" + 0.014*\"play\" + 0.013*\"rewards\"')\n",
      "(1, '0.117*\"game\" + 0.040*\"like\" + 0.025*\"play\"')\n",
      "(2, '0.026*\"like\" + 0.023*\"gameplay\" + 0.022*\"team\"')\n"
     ]
    }
   ],
   "source": [
    "tokens = satisfied['CleanedReview'].apply(lambda x: preprocess_string(x, filters=[remove_stopwords]))\n",
    "\n",
    "N_TOPICS = 3\n",
    "\n",
    "dictionary = corpora.Dictionary(tokens)\n",
    "corpus = [dictionary.doc2bow(token) for token in tokens]\n",
    "\n",
    "# lda = models.ldamodel.LdaModel(corpus, num_topics=N_TOPICS, id2word=dictionary, passes=10, random_state=1, iterations=500)\n",
    "lda = Nmf(corpus, num_topics=N_TOPICS, id2word=dictionary)\n",
    "\n",
    "lista_topico = lda.print_topics(num_words=3)\n",
    "\n",
    "for topico in lista_topico:\n",
    "    print(topico)\n"
   ]
  },
  {
   "cell_type": "code",
   "execution_count": 14,
   "id": "399f1395",
   "metadata": {},
   "outputs": [
    {
     "data": {
      "application/vnd.plotly.v1+json": {
       "config": {
        "plotlyServerURL": "https://plot.ly"
       },
       "data": [
        {
         "marker": {
          "color": [
           0.02043038747210528,
           0.014224290859968267,
           0.013134717029370729,
           0.01167277055844188,
           0.010250217831214492,
           0.009719925940484578,
           0.009612180836044882,
           0.009599333500740445,
           0.008932503555509237,
           0.008898884460652252
          ],
          "coloraxis": "coloraxis"
         },
         "type": "bar",
         "x": [
          "year",
          "play",
          "rewards",
          "love",
          "hope",
          "know",
          "changes",
          "playing",
          "good",
          "player"
         ],
         "xaxis": "x",
         "y": [
          0.02043038747210528,
          0.014224290859968267,
          0.013134717029370729,
          0.01167277055844188,
          0.010250217831214492,
          0.009719925940484578,
          0.009612180836044882,
          0.009599333500740445,
          0.008932503555509237,
          0.008898884460652252
         ],
         "yaxis": "y"
        },
        {
         "marker": {
          "color": [
           0.11687638080628229,
           0.039660774938371855,
           0.024923849952550488,
           0.01957092645259265,
           0.018025583035683232,
           0.017839148807941657,
           0.015934646722783923,
           0.014373999392615687,
           0.013228801850352948,
           0.01301338166512208
          ],
          "coloraxis": "coloraxis"
         },
         "type": "bar",
         "x": [
          "game",
          "like",
          "play",
          "controller",
          "player",
          "worth",
          "year",
          "career",
          "games",
          "mode"
         ],
         "xaxis": "x2",
         "y": [
          0.11687638080628229,
          0.039660774938371855,
          0.024923849952550488,
          0.01957092645259265,
          0.018025583035683232,
          0.017839148807941657,
          0.015934646722783923,
          0.014373999392615687,
          0.013228801850352948,
          0.01301338166512208
         ],
         "yaxis": "y2"
        },
        {
         "marker": {
          "color": [
           0.026403925967711524,
           0.02290203282606057,
           0.022425758054306938,
           0.022173407740237308,
           0.01886507713209964,
           0.018683145052499395,
           0.013352256363769155,
           0.013314748274585035,
           0.012609479111319925,
           0.011472544249772537
          ],
          "coloraxis": "coloraxis"
         },
         "type": "bar",
         "x": [
          "like",
          "gameplay",
          "team",
          "players",
          "feels",
          "mode",
          "ultimate",
          "career",
          "previous",
          "menus"
         ],
         "xaxis": "x3",
         "y": [
          0.026403925967711524,
          0.02290203282606057,
          0.022425758054306938,
          0.022173407740237308,
          0.01886507713209964,
          0.018683145052499395,
          0.013352256363769155,
          0.013314748274585035,
          0.012609479111319925,
          0.011472544249772537
         ],
         "yaxis": "y3"
        }
       ],
       "layout": {
        "annotations": [
         {
          "font": {
           "size": 16
          },
          "showarrow": false,
          "text": "Topic 1",
          "x": 0.225,
          "xanchor": "center",
          "xref": "paper",
          "y": 1,
          "yanchor": "bottom",
          "yref": "paper"
         },
         {
          "font": {
           "size": 16
          },
          "showarrow": false,
          "text": "Topic 2",
          "x": 0.775,
          "xanchor": "center",
          "xref": "paper",
          "y": 1,
          "yanchor": "bottom",
          "yref": "paper"
         },
         {
          "font": {
           "size": 16
          },
          "showarrow": false,
          "text": "Topic 3",
          "x": 0.225,
          "xanchor": "center",
          "xref": "paper",
          "y": 0.6111111111111112,
          "yanchor": "bottom",
          "yref": "paper"
         }
        ],
        "coloraxis": {
         "colorscale": [
          [
           0,
           "rgb(255,0,0)"
          ],
          [
           1,
           "rgb(0,0,255)"
          ]
         ]
        },
        "showlegend": false,
        "template": {
         "data": {
          "bar": [
           {
            "error_x": {
             "color": "#2a3f5f"
            },
            "error_y": {
             "color": "#2a3f5f"
            },
            "marker": {
             "line": {
              "color": "#E5ECF6",
              "width": 0.5
             },
             "pattern": {
              "fillmode": "overlay",
              "size": 10,
              "solidity": 0.2
             }
            },
            "type": "bar"
           }
          ],
          "barpolar": [
           {
            "marker": {
             "line": {
              "color": "#E5ECF6",
              "width": 0.5
             },
             "pattern": {
              "fillmode": "overlay",
              "size": 10,
              "solidity": 0.2
             }
            },
            "type": "barpolar"
           }
          ],
          "carpet": [
           {
            "aaxis": {
             "endlinecolor": "#2a3f5f",
             "gridcolor": "white",
             "linecolor": "white",
             "minorgridcolor": "white",
             "startlinecolor": "#2a3f5f"
            },
            "baxis": {
             "endlinecolor": "#2a3f5f",
             "gridcolor": "white",
             "linecolor": "white",
             "minorgridcolor": "white",
             "startlinecolor": "#2a3f5f"
            },
            "type": "carpet"
           }
          ],
          "choropleth": [
           {
            "colorbar": {
             "outlinewidth": 0,
             "ticks": ""
            },
            "type": "choropleth"
           }
          ],
          "contour": [
           {
            "colorbar": {
             "outlinewidth": 0,
             "ticks": ""
            },
            "colorscale": [
             [
              0,
              "#0d0887"
             ],
             [
              0.1111111111111111,
              "#46039f"
             ],
             [
              0.2222222222222222,
              "#7201a8"
             ],
             [
              0.3333333333333333,
              "#9c179e"
             ],
             [
              0.4444444444444444,
              "#bd3786"
             ],
             [
              0.5555555555555556,
              "#d8576b"
             ],
             [
              0.6666666666666666,
              "#ed7953"
             ],
             [
              0.7777777777777778,
              "#fb9f3a"
             ],
             [
              0.8888888888888888,
              "#fdca26"
             ],
             [
              1,
              "#f0f921"
             ]
            ],
            "type": "contour"
           }
          ],
          "contourcarpet": [
           {
            "colorbar": {
             "outlinewidth": 0,
             "ticks": ""
            },
            "type": "contourcarpet"
           }
          ],
          "heatmap": [
           {
            "colorbar": {
             "outlinewidth": 0,
             "ticks": ""
            },
            "colorscale": [
             [
              0,
              "#0d0887"
             ],
             [
              0.1111111111111111,
              "#46039f"
             ],
             [
              0.2222222222222222,
              "#7201a8"
             ],
             [
              0.3333333333333333,
              "#9c179e"
             ],
             [
              0.4444444444444444,
              "#bd3786"
             ],
             [
              0.5555555555555556,
              "#d8576b"
             ],
             [
              0.6666666666666666,
              "#ed7953"
             ],
             [
              0.7777777777777778,
              "#fb9f3a"
             ],
             [
              0.8888888888888888,
              "#fdca26"
             ],
             [
              1,
              "#f0f921"
             ]
            ],
            "type": "heatmap"
           }
          ],
          "histogram": [
           {
            "marker": {
             "pattern": {
              "fillmode": "overlay",
              "size": 10,
              "solidity": 0.2
             }
            },
            "type": "histogram"
           }
          ],
          "histogram2d": [
           {
            "colorbar": {
             "outlinewidth": 0,
             "ticks": ""
            },
            "colorscale": [
             [
              0,
              "#0d0887"
             ],
             [
              0.1111111111111111,
              "#46039f"
             ],
             [
              0.2222222222222222,
              "#7201a8"
             ],
             [
              0.3333333333333333,
              "#9c179e"
             ],
             [
              0.4444444444444444,
              "#bd3786"
             ],
             [
              0.5555555555555556,
              "#d8576b"
             ],
             [
              0.6666666666666666,
              "#ed7953"
             ],
             [
              0.7777777777777778,
              "#fb9f3a"
             ],
             [
              0.8888888888888888,
              "#fdca26"
             ],
             [
              1,
              "#f0f921"
             ]
            ],
            "type": "histogram2d"
           }
          ],
          "histogram2dcontour": [
           {
            "colorbar": {
             "outlinewidth": 0,
             "ticks": ""
            },
            "colorscale": [
             [
              0,
              "#0d0887"
             ],
             [
              0.1111111111111111,
              "#46039f"
             ],
             [
              0.2222222222222222,
              "#7201a8"
             ],
             [
              0.3333333333333333,
              "#9c179e"
             ],
             [
              0.4444444444444444,
              "#bd3786"
             ],
             [
              0.5555555555555556,
              "#d8576b"
             ],
             [
              0.6666666666666666,
              "#ed7953"
             ],
             [
              0.7777777777777778,
              "#fb9f3a"
             ],
             [
              0.8888888888888888,
              "#fdca26"
             ],
             [
              1,
              "#f0f921"
             ]
            ],
            "type": "histogram2dcontour"
           }
          ],
          "mesh3d": [
           {
            "colorbar": {
             "outlinewidth": 0,
             "ticks": ""
            },
            "type": "mesh3d"
           }
          ],
          "parcoords": [
           {
            "line": {
             "colorbar": {
              "outlinewidth": 0,
              "ticks": ""
             }
            },
            "type": "parcoords"
           }
          ],
          "pie": [
           {
            "automargin": true,
            "type": "pie"
           }
          ],
          "scatter": [
           {
            "fillpattern": {
             "fillmode": "overlay",
             "size": 10,
             "solidity": 0.2
            },
            "type": "scatter"
           }
          ],
          "scatter3d": [
           {
            "line": {
             "colorbar": {
              "outlinewidth": 0,
              "ticks": ""
             }
            },
            "marker": {
             "colorbar": {
              "outlinewidth": 0,
              "ticks": ""
             }
            },
            "type": "scatter3d"
           }
          ],
          "scattercarpet": [
           {
            "marker": {
             "colorbar": {
              "outlinewidth": 0,
              "ticks": ""
             }
            },
            "type": "scattercarpet"
           }
          ],
          "scattergeo": [
           {
            "marker": {
             "colorbar": {
              "outlinewidth": 0,
              "ticks": ""
             }
            },
            "type": "scattergeo"
           }
          ],
          "scattergl": [
           {
            "marker": {
             "colorbar": {
              "outlinewidth": 0,
              "ticks": ""
             }
            },
            "type": "scattergl"
           }
          ],
          "scattermap": [
           {
            "marker": {
             "colorbar": {
              "outlinewidth": 0,
              "ticks": ""
             }
            },
            "type": "scattermap"
           }
          ],
          "scattermapbox": [
           {
            "marker": {
             "colorbar": {
              "outlinewidth": 0,
              "ticks": ""
             }
            },
            "type": "scattermapbox"
           }
          ],
          "scatterpolar": [
           {
            "marker": {
             "colorbar": {
              "outlinewidth": 0,
              "ticks": ""
             }
            },
            "type": "scatterpolar"
           }
          ],
          "scatterpolargl": [
           {
            "marker": {
             "colorbar": {
              "outlinewidth": 0,
              "ticks": ""
             }
            },
            "type": "scatterpolargl"
           }
          ],
          "scatterternary": [
           {
            "marker": {
             "colorbar": {
              "outlinewidth": 0,
              "ticks": ""
             }
            },
            "type": "scatterternary"
           }
          ],
          "surface": [
           {
            "colorbar": {
             "outlinewidth": 0,
             "ticks": ""
            },
            "colorscale": [
             [
              0,
              "#0d0887"
             ],
             [
              0.1111111111111111,
              "#46039f"
             ],
             [
              0.2222222222222222,
              "#7201a8"
             ],
             [
              0.3333333333333333,
              "#9c179e"
             ],
             [
              0.4444444444444444,
              "#bd3786"
             ],
             [
              0.5555555555555556,
              "#d8576b"
             ],
             [
              0.6666666666666666,
              "#ed7953"
             ],
             [
              0.7777777777777778,
              "#fb9f3a"
             ],
             [
              0.8888888888888888,
              "#fdca26"
             ],
             [
              1,
              "#f0f921"
             ]
            ],
            "type": "surface"
           }
          ],
          "table": [
           {
            "cells": {
             "fill": {
              "color": "#EBF0F8"
             },
             "line": {
              "color": "white"
             }
            },
            "header": {
             "fill": {
              "color": "#C8D4E3"
             },
             "line": {
              "color": "white"
             }
            },
            "type": "table"
           }
          ]
         },
         "layout": {
          "annotationdefaults": {
           "arrowcolor": "#2a3f5f",
           "arrowhead": 0,
           "arrowwidth": 1
          },
          "autotypenumbers": "strict",
          "coloraxis": {
           "colorbar": {
            "outlinewidth": 0,
            "ticks": ""
           }
          },
          "colorscale": {
           "diverging": [
            [
             0,
             "#8e0152"
            ],
            [
             0.1,
             "#c51b7d"
            ],
            [
             0.2,
             "#de77ae"
            ],
            [
             0.3,
             "#f1b6da"
            ],
            [
             0.4,
             "#fde0ef"
            ],
            [
             0.5,
             "#f7f7f7"
            ],
            [
             0.6,
             "#e6f5d0"
            ],
            [
             0.7,
             "#b8e186"
            ],
            [
             0.8,
             "#7fbc41"
            ],
            [
             0.9,
             "#4d9221"
            ],
            [
             1,
             "#276419"
            ]
           ],
           "sequential": [
            [
             0,
             "#0d0887"
            ],
            [
             0.1111111111111111,
             "#46039f"
            ],
            [
             0.2222222222222222,
             "#7201a8"
            ],
            [
             0.3333333333333333,
             "#9c179e"
            ],
            [
             0.4444444444444444,
             "#bd3786"
            ],
            [
             0.5555555555555556,
             "#d8576b"
            ],
            [
             0.6666666666666666,
             "#ed7953"
            ],
            [
             0.7777777777777778,
             "#fb9f3a"
            ],
            [
             0.8888888888888888,
             "#fdca26"
            ],
            [
             1,
             "#f0f921"
            ]
           ],
           "sequentialminus": [
            [
             0,
             "#0d0887"
            ],
            [
             0.1111111111111111,
             "#46039f"
            ],
            [
             0.2222222222222222,
             "#7201a8"
            ],
            [
             0.3333333333333333,
             "#9c179e"
            ],
            [
             0.4444444444444444,
             "#bd3786"
            ],
            [
             0.5555555555555556,
             "#d8576b"
            ],
            [
             0.6666666666666666,
             "#ed7953"
            ],
            [
             0.7777777777777778,
             "#fb9f3a"
            ],
            [
             0.8888888888888888,
             "#fdca26"
            ],
            [
             1,
             "#f0f921"
            ]
           ]
          },
          "colorway": [
           "#636efa",
           "#EF553B",
           "#00cc96",
           "#ab63fa",
           "#FFA15A",
           "#19d3f3",
           "#FF6692",
           "#B6E880",
           "#FF97FF",
           "#FECB52"
          ],
          "font": {
           "color": "#2a3f5f"
          },
          "geo": {
           "bgcolor": "white",
           "lakecolor": "white",
           "landcolor": "#E5ECF6",
           "showlakes": true,
           "showland": true,
           "subunitcolor": "white"
          },
          "hoverlabel": {
           "align": "left"
          },
          "hovermode": "closest",
          "mapbox": {
           "style": "light"
          },
          "paper_bgcolor": "white",
          "plot_bgcolor": "#E5ECF6",
          "polar": {
           "angularaxis": {
            "gridcolor": "white",
            "linecolor": "white",
            "ticks": ""
           },
           "bgcolor": "#E5ECF6",
           "radialaxis": {
            "gridcolor": "white",
            "linecolor": "white",
            "ticks": ""
           }
          },
          "scene": {
           "xaxis": {
            "backgroundcolor": "#E5ECF6",
            "gridcolor": "white",
            "gridwidth": 2,
            "linecolor": "white",
            "showbackground": true,
            "ticks": "",
            "zerolinecolor": "white"
           },
           "yaxis": {
            "backgroundcolor": "#E5ECF6",
            "gridcolor": "white",
            "gridwidth": 2,
            "linecolor": "white",
            "showbackground": true,
            "ticks": "",
            "zerolinecolor": "white"
           },
           "zaxis": {
            "backgroundcolor": "#E5ECF6",
            "gridcolor": "white",
            "gridwidth": 2,
            "linecolor": "white",
            "showbackground": true,
            "ticks": "",
            "zerolinecolor": "white"
           }
          },
          "shapedefaults": {
           "line": {
            "color": "#2a3f5f"
           }
          },
          "ternary": {
           "aaxis": {
            "gridcolor": "white",
            "linecolor": "white",
            "ticks": ""
           },
           "baxis": {
            "gridcolor": "white",
            "linecolor": "white",
            "ticks": ""
           },
           "bgcolor": "#E5ECF6",
           "caxis": {
            "gridcolor": "white",
            "linecolor": "white",
            "ticks": ""
           }
          },
          "title": {
           "x": 0.05
          },
          "xaxis": {
           "automargin": true,
           "gridcolor": "white",
           "linecolor": "white",
           "ticks": "",
           "title": {
            "standoff": 15
           },
           "zerolinecolor": "white",
           "zerolinewidth": 2
          },
          "yaxis": {
           "automargin": true,
           "gridcolor": "white",
           "linecolor": "white",
           "ticks": "",
           "title": {
            "standoff": 15
           },
           "zerolinecolor": "white",
           "zerolinewidth": 2
          }
         }
        },
        "xaxis": {
         "anchor": "y",
         "domain": [
          0,
          0.45
         ]
        },
        "xaxis2": {
         "anchor": "y2",
         "domain": [
          0.55,
          1
         ]
        },
        "xaxis3": {
         "anchor": "y3",
         "domain": [
          0,
          0.45
         ]
        },
        "xaxis4": {
         "anchor": "y4",
         "domain": [
          0.55,
          1
         ]
        },
        "xaxis5": {
         "anchor": "y5",
         "domain": [
          0,
          0.45
         ]
        },
        "xaxis6": {
         "anchor": "y6",
         "domain": [
          0.55,
          1
         ]
        },
        "yaxis": {
         "anchor": "x",
         "domain": [
          0.7777777777777778,
          1
         ]
        },
        "yaxis2": {
         "anchor": "x2",
         "domain": [
          0.7777777777777778,
          1
         ],
         "matches": "y",
         "showticklabels": false
        },
        "yaxis3": {
         "anchor": "x3",
         "domain": [
          0.3888888888888889,
          0.6111111111111112
         ]
        },
        "yaxis4": {
         "anchor": "x4",
         "domain": [
          0.3888888888888889,
          0.6111111111111112
         ],
         "matches": "y3",
         "showticklabels": false
        },
        "yaxis5": {
         "anchor": "x5",
         "domain": [
          0,
          0.22222222222222224
         ]
        },
        "yaxis6": {
         "anchor": "x6",
         "domain": [
          0,
          0.22222222222222224
         ],
         "matches": "y5",
         "showticklabels": false
        }
       }
      }
     },
     "metadata": {},
     "output_type": "display_data"
    }
   ],
   "source": [
    "lda_top = lda.show_topics(formatted=False)\n",
    "\n",
    "fig = make_subplots(rows=3, cols=2, shared_yaxes=True, subplot_titles=[f\"Topic {i+1}\" for i in range(N_TOPICS)],)\n",
    "\n",
    "for i in range(N_TOPICS):\n",
    "    topico = lda_top[i][1]\n",
    "    topico.sort(key=lambda x: x[1], reverse=True)\n",
    "\n",
    "    palavra = list(zip(*topico))[0]\n",
    "    score = list(zip(*topico))[1]\n",
    "    \n",
    "    fig.add_trace(go.Bar(x=palavra, y=score,\n",
    "                         marker=dict(color=score, coloraxis=\"coloraxis\")), i // 2 + 1, i % 2 + 1)\n",
    "    \n",
    "fig.update_layout(coloraxis=dict(colorscale='Bluered_r'), showlegend=False)\n",
    "fig.show()"
   ]
  },
  {
   "cell_type": "markdown",
   "id": "71f85c53",
   "metadata": {},
   "source": [
    "# Analysing most relevant comments with LLM"
   ]
  },
  {
   "cell_type": "code",
   "execution_count": 1,
   "id": "deaeb69b",
   "metadata": {},
   "outputs": [],
   "source": [
    "from openai import AzureOpenAI\n",
    "from dotenv import load_dotenv\n",
    "import os"
   ]
  },
  {
   "cell_type": "markdown",
   "id": "5254b4bd",
   "metadata": {},
   "source": [
    "For running this part, create a `.env` file in the same folder as the notebook and add the keys:\n",
    "```\n",
    "API_KEY = <Azure Open AI API KEY>\n",
    "API_ENDPOINT = <Azure EndPoint>\n",
    "```"
   ]
  },
  {
   "cell_type": "code",
   "execution_count": 2,
   "id": "2945eb1d",
   "metadata": {},
   "outputs": [],
   "source": [
    "load_dotenv()\n",
    "\n",
    "client = AzureOpenAI(\n",
    "    api_key=os.getenv(\"API_KEY\"),\n",
    "    api_version=\"2024-12-01-preview\",\n",
    "    azure_endpoint=os.getenv(\"API_ENDPOINT\")\n",
    ")"
   ]
  },
  {
   "cell_type": "code",
   "execution_count": null,
   "id": "36f67803",
   "metadata": {},
   "outputs": [
    {
     "name": "stdout",
     "output_type": "stream",
     "text": [
      "### **Summary of Reviews and Developer Insights for EA Sports FC 25**\n",
      "\n",
      "#### **General Sentiments**\n",
      "- **Improved but Still Flawed**: Most players agree that *EA Sports FC 25* is an improvement over previous titles like FIFA 23 and 24, particularly in offline gameplay and Career Mode. However, the game still suffers from issues that undermine the overall experience (e.g., bugs, copy-pasted elements, and pricing strategies).\n",
      "\n",
      "- **Offline Gameplay is the Highlight**: Career Mode has garnered substantial praise, with users appreciating its updates, enhanced gameplay mechanics, and added realism. However, many feel these updates could still benefit from greater depth and refinement.\n",
      "\n",
      "- **Online Modes Are Disappointing**: Online gameplay has received significant criticism for being repetitive, unbalanced, and plagued by unskilled players spamming meta strategies (e.g., overusing specific players like Mbappé). Many reviewers avoid online modes entirely due to these issues.\n",
      "\n",
      "- **Technical Issues Are Prevalent**: Players report numerous bugs, optimization problems (especially on PC), and controller compatibility issues across platforms, dampening the game's usability and initial impression.\n",
      "\n",
      "- **Pricing Is a Barrier**: Several users criticize the $70 price tag, feeling the improvements do not justify the cost. Some explicitly recommend waiting for discounts to purchase the game.\n",
      "\n",
      "---\n",
      "\n",
      "#### **Key Strengths**\n",
      "1. **Improved Career Modes**:\n",
      "   - Tactical gameplay now feels more realistic, with users appreciating that strategies like defending and timing matter more.\n",
      "   - New features like an improved Youth Academy and youth tournaments are highly appreciated, although there’s room for these features to have more depth.\n",
      "   - Manager career mode is praised for being one of the best iterations in recent years, with realism in gameplay approach aligning with actual football dynamics.\n",
      "\n",
      "2. **Improved Dribbling and Gameplay**:\n",
      "   - Players have noted that dribbling feels more responsive compared to previous titles, enhancing the control and fun of gameplay.\n",
      "\n",
      "3. **Visual and Animation Updates**:\n",
      "   - Subtle improvements to gameplay animations (e.g., player movements in defending and attacking) have been positively received.\n",
      "\n",
      "---\n",
      "\n",
      "#### **Key Weaknesses and Opportunities for Improvement**\n",
      "1. **Technical Issues**:\n",
      "   - **PC Optimization Problems**: PC users frequently report issues such as the game failing to launch due to EA Anticheat and performance bugs. This is a critical area that requires immediate attention to avoid alienating a portion of the user base.\n",
      "   - **Controller Compatibility**: Reports of controller bugs are widespread, with many players sharing temporary fixes but requiring an official patch from EA. This is a recurring frustration for both PS4 and PS5 users.\n",
      "\n",
      "2. **Copy-Paste Content**:\n",
      "   - Post-match interviews, cutscenes, and animations feel recycled from *EAFC 23-24*, making the game feel lazy and uninspired in areas beyond gameplay updates.\n",
      "   - Many users express a desire for fresh, engaging cutscenes and more variety in these areas to reduce the feeling of repetitiveness.\n",
      "\n",
      "3. **Shallow Career Mode Features**:\n",
      "   - **Youth Academy Depth**: While youth tournaments are appreciated, players feel this system lacks depth (e.g., limited interactions or progression mechanics).\n",
      "   - **Social Media Feature**: Feels like a rehash of older features without meaningful differences.\n",
      "   - **Manager Salary**: Players note that the salary mechanic is pointless, as there is nothing relevant to spend money on. Introducing a system where the manager’s salary has utility (e.g., funding team upgrades or personal goals) could add immersion.\n",
      "   - **Customization Options for Stadiums and Clubs**: Many players want more robust customization options for their clubs and stadiums to enhance the feeling of ownership and personalization.\n",
      "\n",
      "4. **AI Inconsistencies**:\n",
      "   - AI behavior can feel unpredictable and inconsistent. It alternates between being overly challenging or noticeably easy, which frustrates users looking for a fair and satisfying experience. Developers should focus on refining AI balance to make matches more enjoyable.\n",
      "\n",
      "5. **Online Mode: Lack of Skill Balance**:\n",
      "   - Online matches are shallow, with users complaining about meta-abuse (e.g., players relying on specific teams like Real Madrid and overusing top players like Mbappé). A possible solution could involve balancing mechanics or offering incentives to use less popular teams.\n",
      "\n",
      "6. **Limited Historical Data for Career Mode**:\n",
      "   - Players request more robust tracking of past season results, including league finishes, stats, and achievements for all teams and players. Implementing such features would increase immersion significantly.\n",
      "\n",
      "---\n",
      "\n",
      "#### **Pricing Criticism**\n",
      "- **$70 Price Tag Concerns**: Players overwhelmingly find the game overpriced for the incremental improvements and suggest waiting for sales. EA may consider reevaluating pricing strategies or offering compelling discounts during launch periods to improve adoption rates.\n",
      "\n",
      "---\n",
      "\n",
      "#### **Actionable Recommendations for Developers**\n",
      "1. **Address Technical Issues**:\n",
      "   - Fix PC version optimization, especially the EA Anticheat-related issues.\n",
      "   - Release an official fix for controller compatibility issues across platforms and communicate it widely to affected players.\n",
      "\n",
      "2. **Enhance Career Mode**:\n",
      "   - Deepen features like the Youth Academy by adding more layers (e.g., individual player progression stories or training systems).\n",
      "   - Add meaningful uses for the manager’s salary.\n",
      "   - Introduce more options for club and stadium customization.\n",
      "   - Expand post-match scenarios and add variety to animations and interviews.\n",
      "   - Provide access to historical data (e.g., previous seasons’ results, league standings, top scorers).\n",
      "\n",
      "3. **Revive Online Modes**:\n",
      "   - Introduce penalties or limitations for repetitive team usage in online play to encourage diversity.\n",
      "   - Incentivize alternative playstyles and the use of non-meta strategies.\n",
      "\n",
      "4. **Improve AI Consistency**:\n",
      "   - Focus on creating balanced and predictable AI behavior in career and offline modes that offers engaging challenges for players.\n",
      "\n",
      "5. **Justify the Price Tag**:\n",
      "   - If the price remains at $70, substantial updates to graphics, new features, and innovation are expected by players. Alternatively, EA could explore ways to offer more discounts or bonuses for early adopters.\n",
      "\n",
      "6. **Communicate with the Community**:\n",
      "   - Be transparent about upcoming patches and fixes for technical problems.\n",
      "   - Engage with the community to understand their frustrations and ideas—it may help repair the negative sentiment associated with EA as a brand.\n",
      "\n",
      "---\n",
      "\n",
      "#### **Conclusion**\n",
      "*EA Sports FC 25* is a step forward in certain areas like Career Mode and gameplay responsiveness, but it remains constrained by longstanding issues. Developers should prioritize technical fixes, add depth to Career Mode mechanics, and innovate in repetitive areas to justify the game’s premium pricing and meet player expectations. Addressing these concerns promptly could enhance goodwill among players and build a more loyal player base for future releases.\n"
     ]
    }
   ],
   "source": [
    "top_10_reviews = satisfied.sort_values(by=\"Helpful\", ascending=False).iloc[:10, :][\"Review\"].to_list()\n",
    "\n",
    "review_list = \"\\n\".join(f\"- {i+1}: {r}\" for i, r in enumerate(top_10_reviews))\n",
    "\n",
    "good_reviews_prompt = f\"\"\"You are a helpful assistant. I will give you a list of reviews about a game.\n",
    "Your task is to summarize the reviews, and search for insights that can be useful for the game developers.\n",
    "Please, be very specific and detailed in your answer.\n",
    "Here are the reviews:\n",
    "{review_list}\n",
    "\"\"\"\n",
    "\n",
    "response = client.chat.completions.create(\n",
    "    model=\"gpt-4.1-nano\",\n",
    "    messages=[{\"role\": \"user\", \"content\": good_reviews_prompt}],\n",
    ")\n",
    "\n",
    "out = response.choices[0].message.content\n",
    "\n",
    "print(out)\n",
    "\n",
    "with open(\"out/good_reviews_summary_gpt.md\", \"w\") as f:\n",
    "    f.write(out)"
   ]
  },
  {
   "cell_type": "code",
   "execution_count": null,
   "id": "29fd2613",
   "metadata": {},
   "outputs": [
    {
     "name": "stdout",
     "output_type": "stream",
     "text": [
      "### Key Insights and Suggestions for Developers Based on Bad Reviews\n",
      "\n",
      "The reviews of the game reveal a host of issues across gameplay, monetization, optimization, and general user experience. Below are detailed insights and possible avenues for improvement:\n",
      "\n",
      "---\n",
      "\n",
      "## 1. **Gameplay Mechanics: Lack of Responsiveness, AI Manipulation, and Perceived \"Scripting\"**\n",
      "   Many players are frustrated with the in-game experience, particularly the mechanics that feel unfair, inconsistent, or outright \"manipulated.\" Common issues include:\n",
      "   - **Dynamic Difficulty Adjustment (DDA) or \"Scripting\":** Players feel that outcomes are artificially determined to drive monetary engagement in modes like Ultimate Team. Examples include:\n",
      "     - AI inexplicably outperforming human players (e.g., low-rated defenders outrunning high-rated attackers).\n",
      "     - Predictable match outcomes based on perceived AI intervention or “cheating.”\n",
      "   - **Unresponsive Player Controls:**\n",
      "     - Commands during crucial moments, such as shooting or passing, frequently result in unintended actions (e.g., passes going in the wrong direction, inability to switch defenders manually).\n",
      "     - Defenders standing idle or giving penalties without player input leads to further frustration.\n",
      "     - AI-controlled opponents making unrealistically precise movements or fouls that aren't penalized.\n",
      "   - **Break in Immersion:**\n",
      "     - Unnatural opponent behavior, such as retreating to their keeper when trailing late in matches.\n",
      "     - Over-the-top events that feel “programmed” rather than skill-based (e.g., absurdly effective goalkeepers or defenders seeming to \"teleport\").\n",
      "\n",
      "   **Suggested Actions:**\n",
      "   - Address AI behavior to make matches feel fair and balanced. Players want skill-based outcomes, not results determined by \"invisible forces.\"\n",
      "   - Provide **transparency** about game mechanics (e.g., any implemented difficulty adjustment algorithms). If DDA is used, test if its impact can be toned down or limited to specific game modes.\n",
      "   - Improve responsiveness and input accuracy for player controls, especially during critical moments.\n",
      "   - Test edge cases where the AI behavior breaks immersion (e.g., irrational decisions like unnecessary back-passing in losing scenarios).\n",
      "\n",
      "---\n",
      "\n",
      "## 2. **Monetization Criticisms: Pay-to-Win and Predatory Loot Boxes**\n",
      "   Players are highly critical of the monetization strategy employed, particularly in Ultimate Team (UT). Complaints suggest the game feels more like a “casino” than a football simulation:\n",
      "   - **Pay-to-Win Mechanics:**\n",
      "     - Player success depends heavily on purchasing loot boxes or packs, especially in UT mode.\n",
      "     - Skill feels secondary to the depth of a user's wallet, alienating non-spending or low-spending players.\n",
      "   - **Loot Boxes as RNG Gambling:** \n",
      "     - The randomized reward system feels exploitative, particularly given the game’s appeal to younger audiences.\n",
      "     - Scenarios where substantial purchases still yield poor rewards exacerbate the frustration.\n",
      "   - Ethical concerns are raised repeatedly about targeting children with psychologically manipulative systems.\n",
      "\n",
      "   **Suggested Actions:**\n",
      "   - Reconsider monetization models, incorporating **non-pay-to-win options** to reward skill rather than spending (e.g., allowing players to grind for top-tier items or players).\n",
      "   - Provide **greater transparency** about loot box mechanics (e.g., drop rates).\n",
      "   - Introduce alternative modes for players who don’t want to participate in the monetized ecosystem.\n",
      "   - Consider offering a “Base Mode” for Ultimate Team, stripped of paid advantages, to provide a skill-focused experience.\n",
      "\n",
      "---\n",
      "\n",
      "## 3. **Lack of Innovation and Recycled Features**\n",
      "   Players report that recent iterations of the game feel like reskins of previous versions, with minimal meaningful improvements:\n",
      "   - **Identical UI and Menus:** The interface feels unpolished and recycled. Simplified menu designs in certain modes (e.g., Manager Mode) also detract from the experience.\n",
      "   - **Recycled Issues and Bugs:** Long-standing issues in gameplay, freezing, crashing, and servers remain unfixed.\n",
      "   - **Minimal and Superficial Improvements:** While rare players admitted to minor improvements (e.g., better ball control or Rush mode), most perceive the game as stagnating.\n",
      "   - Players see EA’s yearly release cycle as primarily money-driven without offering genuine innovation.\n",
      "\n",
      "   **Suggested Actions:**\n",
      "   - **Redesign the UI:** Invest resources into creating a fresh, intuitive, and user-friendly interface for modes like Manager Mode and main menus.\n",
      "   - **Emphasize real improvements:** Clearly communicate meaningful gameplay or graphical enhancements in marketing campaigns.\n",
      "   - Reinforce testing to improve **bug fixing** and reduce crashes/freezing.\n",
      "   - If significant changes aren't possible yearly, consider moving to a **live-service model** (e.g., a single base game with seasonal updates) rather than releasing what players feel are near-identical annual versions.\n",
      "\n",
      "---\n",
      "\n",
      "## 4. **Optimization Issues (Particularly for PC)**\n",
      "   Many PC players report issues with optimization:\n",
      "   - **Laggy Input and Servers:** Online gameplay suffers from severe lag, leading to unplayable matches on unreliable servers.\n",
      "   - **Poor PC Optimization and Perpetual Bugs:** Reviews highlight consistent freezing, crashes, or performance problems that remain unresolved despite large-scale forum discussions. \n",
      "   - Players purchasing the game on PC feel overlooked compared to console users.\n",
      "   - Significant dissatisfaction with the value of paying full price for a game that doesn’t function properly.\n",
      "\n",
      "   **Suggested Actions:**\n",
      "   - Allocate dedicated resources to PC optimization testing and troubleshooting. Performance differences between platforms should be addressed.\n",
      "   - Improve server infrastructure to reduce online lag and provide smoother input responses.\n",
      "   - Actively engage with the player community (e.g., forums) to resolve widespread and persistent technical issues. Transparency about planned fixes can restore goodwill.\n",
      "\n",
      "---\n",
      "\n",
      "## 5. **Negative Value Perception**\n",
      "   Many players feel the game doesn’t justify its price:\n",
      "   - Considering the minimal upgrades, bugs, poor optimization, and reliance on microtransactions, users feel the game lacks value unless bought at a heavy discount.\n",
      "   - Angry customers even request **refunds** (e.g., €70 in one review) for not being able to play a smooth game two weeks post-purchase.\n",
      "   - Long-time players who have stuck with the franchise for years see this version as the “worst yet.”\n",
      "\n",
      "   **Suggested Actions:**\n",
      "   - Adjust pricing models based on comprehensive quality evaluations. If a game is released with major performance or balancing issues, discounts or compensations for affected players may soften the backlash.\n",
      "   - Shift toward a **sustainable live-service model** (e.g., offering updates akin to software patches) to lower costs for loyal players while gradually refining mechanics.\n",
      "   - Offer goodwill gestures to customers frustrated by broken releases, such as free bonus content, in-game currency, or partial refunds.\n",
      "\n",
      "---\n",
      "\n",
      "## Summary of Key Concerns:\n",
      "- **Gameplay Issues:** Unfair and unresponsive mechanics with overt AI manipulation.\n",
      "- **Monetization Criticism:** Overwhelming “pay-to-win” culture with predatory loot boxes exploiting vulnerable demographics.\n",
      "- **Recycled Content:** Players perceive little effort beyond reskinning previous editions.\n",
      "- **Optimization Problems:** Persistent lag, crashes, and poor PC performance damage user experience.\n",
      "- **Price vs. Value:** Poor quality at launch doesn't justify the high retail price, leaving players feeling exploited.\n",
      "\n",
      "## Suggested Developer Focus in Future Iterations:\n",
      "1. Prioritize **fairness and skill-based gameplay** by reevaluating AI balance and removing/reducing manipulative mechanics (such as scripting/DDA).\n",
      "2. Overhaul **monetization models** to make them more ethical and less alienating for low/no-spend players.\n",
      "3. Invest in **UI/UX design refresher** to prevent the game from feeling repetitive and stale.\n",
      "4. Dedicate resources to **PC optimization and server reliability**.\n",
      "5. Focus on building **long-term goodwill** with the community by delivering polished, genuine improvements and addressing long-standing complaints.\n",
      "\n",
      "By addressing these criticisms, developers can rebuild trust in the fanbase, reduce backlash, and create a game that feels fun, fair, and rewarding.\n"
     ]
    }
   ],
   "source": [
    "worse_10_reviews = not_satisfied.sort_values(by=\"Helpful\", ascending=False).iloc[:10, :][\"Review\"].to_list()\n",
    "\n",
    "review_list = \"\\n\".join(f\"- {i+1}: {r}\" for i, r in enumerate(worse_10_reviews))\n",
    "\n",
    "bad_reviews_prompt = f\"\"\"You are a helpful assistant. I will give you a list of only the bad reviews about a game.\n",
    "Your task is to summarize the reviews, and search for insights that can be useful for the game developers.\n",
    "Please, be very specific and detailed in your answer.\n",
    "Here are the reviews:\n",
    "{review_list}\n",
    "\"\"\"\n",
    "\n",
    "response = client.chat.completions.create(\n",
    "    model=\"gpt-4.1-nano\",\n",
    "    messages=[{\"role\": \"user\", \"content\": bad_reviews_prompt}],\n",
    ")\n",
    "\n",
    "out = response.choices[0].message.content\n",
    "\n",
    "print(out)\n",
    "\n",
    "with open(\"out/bad_reviews_summary_gpt.md\", \"w\") as f:\n",
    "    f.write(out)"
   ]
  },
  {
   "cell_type": "markdown",
   "id": "5763c51f",
   "metadata": {},
   "source": [
    "## Conclusion: FIFA 22 Review Analysis\n",
    "The analysis of FIFA 22 reviews revealed several significant insights:\n",
    "\n",
    "1. **Overall Sentiment**\n",
    "   - The game received predominantly negative reviews\n",
    "   - A high number of reviews were marked as \"Not Recommended\"\n",
    "   - Many reviews had high helpfulness scores, indicating strong community agreement\n",
    "\n",
    "2. **Key Issues Identified**\n",
    "   - Gameplay mechanics and AI behavior were major points of criticism\n",
    "   - Technical issues including server problems and optimization\n",
    "   - Concerns about microtransactions and pay-to-win elements\n",
    "   - Frustration with the game's scripting and dynamic difficulty adjustment (DDA)\n",
    "\n",
    "3. **Common Complaints**\n",
    "   - Poor server performance and lag issues\n",
    "   - Unbalanced gameplay mechanics\n",
    "   - Aggressive monetization strategies\n",
    "   - Lack of significant improvements from previous versions\n",
    "   - Technical problems affecting PC players specifically\n",
    "\n",
    "4. **Positive Aspects**\n",
    "   - Some improvements in control mechanics\n",
    "   - New features in manager mode\n",
    "   - Return of pre-match animations\n",
    "   - Rush mode received positive feedback\n",
    "\n",
    "5. **Impact on Player Experience**\n",
    "   - Many players expressed frustration with the game's current state\n",
    "   - Technical issues significantly impacted gameplay enjoyment\n",
    "   - Concerns about the game's direction and EA's handling of the franchise\n",
    "   - Strong community feedback about the need for improvements\n",
    "\n",
    "This analysis demonstrates the importance of addressing technical issues, gameplay balance, and monetization strategies in future iterations of the game. The high number of helpful votes on negative reviews suggests that these issues are widely recognized and experienced by the player community."
   ]
  }
 ],
 "metadata": {
  "kernelspec": {
   "display_name": ".venv",
   "language": "python",
   "name": "python3"
  },
  "language_info": {
   "codemirror_mode": {
    "name": "ipython",
    "version": 3
   },
   "file_extension": ".py",
   "mimetype": "text/x-python",
   "name": "python",
   "nbconvert_exporter": "python",
   "pygments_lexer": "ipython3",
   "version": "3.12.7"
  }
 },
 "nbformat": 4,
 "nbformat_minor": 5
}
